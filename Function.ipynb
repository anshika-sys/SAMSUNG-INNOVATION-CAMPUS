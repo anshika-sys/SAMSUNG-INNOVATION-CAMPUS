{
  "cells": [
    {
      "cell_type": "markdown",
      "metadata": {
        "id": "view-in-github",
        "colab_type": "text"
      },
      "source": [
        "<a href=\"https://colab.research.google.com/github/anshika-sys/SAMSUNG-INNOVATION-CAMPUS/blob/main/Function.ipynb\" target=\"_parent\"><img src=\"https://colab.research.google.com/assets/colab-badge.svg\" alt=\"Open In Colab\"/></a>"
      ]
    },
    {
      "cell_type": "markdown",
      "metadata": {
        "id": "REsxiGSMnnS6"
      },
      "source": [
        "A function with input arguments and a returned value:"
      ]
    },
    {
      "cell_type": "code",
      "execution_count": null,
      "metadata": {
        "colab": {
          "base_uri": "https://localhost:8080/"
        },
        "id": "aB3HUT5WnnS6",
        "outputId": "e1705fd1-7db1-4bd9-e9ee-8395acb0e8ed"
      },
      "outputs": [
        {
          "output_type": "execute_result",
          "data": {
            "text/plain": [
              "12"
            ]
          },
          "metadata": {},
          "execution_count": 1
        }
      ],
      "source": [
        "def prod(a,b):\n",
        "    x = a*b\n",
        "    return x\n",
        "prod(3,4)"
      ]
    },
    {
      "cell_type": "markdown",
      "metadata": {
        "id": "qfOMN83ennS6"
      },
      "source": [
        "A function without input argument:"
      ]
    },
    {
      "cell_type": "code",
      "execution_count": null,
      "metadata": {
        "colab": {
          "base_uri": "https://localhost:8080/"
        },
        "id": "paeFVSLLnnS6",
        "outputId": "086170e8-28ae-4037-a2ce-f8f5291cffbb"
      },
      "outputs": [
        {
          "output_type": "stream",
          "name": "stdout",
          "text": [
            "Hello World!\n"
          ]
        }
      ],
      "source": [
        "def output():\n",
        "    return  'Hello World!'\n",
        "print(output())"
      ]
    },
    {
      "cell_type": "markdown",
      "metadata": {
        "id": "ifh2y7u7nnS7"
      },
      "source": [
        "A function without returned value:"
      ]
    },
    {
      "cell_type": "code",
      "execution_count": null,
      "metadata": {
        "colab": {
          "base_uri": "https://localhost:8080/"
        },
        "id": "lHnHQmD3nnS7",
        "outputId": "29925ee7-28da-4495-8e5a-09ef4e58850c"
      },
      "outputs": [
        {
          "output_type": "stream",
          "name": "stdout",
          "text": [
            "21\n"
          ]
        }
      ],
      "source": [
        "def times3(a):\n",
        "    print(3*a)\n",
        "    return\n",
        "times3(7)"
      ]
    },
    {
      "cell_type": "markdown",
      "metadata": {
        "id": "H7l5nhEbnnS7"
      },
      "source": [
        "A function without input argument nor returned value:"
      ]
    },
    {
      "cell_type": "code",
      "execution_count": null,
      "metadata": {
        "colab": {
          "base_uri": "https://localhost:8080/"
        },
        "id": "1y12LxkmnnS7",
        "outputId": "106ae2e8-a99e-41aa-b3d9-4befe29bb636"
      },
      "outputs": [
        {
          "output_type": "execute_result",
          "data": {
            "text/plain": [
              "55"
            ]
          },
          "metadata": {},
          "execution_count": 4
        }
      ],
      "source": [
        "sum_total = 0\n",
        "def increase():\n",
        "    global sum_total\n",
        "    for i in range(11):\n",
        "        sum_total += i\n",
        "increase()\n",
        "sum_total"
      ]
    },
    {
      "cell_type": "markdown",
      "metadata": {
        "id": "9FGsq8R9nnS7"
      },
      "source": [
        "A function with undetermined number of input arguments:"
      ]
    },
    {
      "cell_type": "code",
      "execution_count": null,
      "metadata": {
        "id": "Fll9hvdfnnS7"
      },
      "outputs": [],
      "source": [
        "def sum_up(*vals):\n",
        "    total = 0\n",
        "    for x in vals:\n",
        "        total += x\n",
        "    return total"
      ]
    },
    {
      "cell_type": "code",
      "execution_count": null,
      "metadata": {
        "colab": {
          "base_uri": "https://localhost:8080/"
        },
        "id": "FU-58UfInnS7",
        "outputId": "e93597b7-bdbf-4209-f62d-1a00184c82ce"
      },
      "outputs": [
        {
          "output_type": "execute_result",
          "data": {
            "text/plain": [
              "6"
            ]
          },
          "metadata": {},
          "execution_count": 6
        }
      ],
      "source": [
        "sum_up(1,2,3)"
      ]
    },
    {
      "cell_type": "code",
      "execution_count": null,
      "metadata": {
        "colab": {
          "base_uri": "https://localhost:8080/"
        },
        "id": "i3cF60adnnS7",
        "outputId": "b9c6726f-bf53-42d3-ac84-47303cf015c1"
      },
      "outputs": [
        {
          "output_type": "execute_result",
          "data": {
            "text/plain": [
              "15"
            ]
          },
          "metadata": {},
          "execution_count": 7
        }
      ],
      "source": [
        "sum_up(1,2,3,4,5)"
      ]
    },
    {
      "cell_type": "markdown",
      "metadata": {
        "id": "JFuhncFunnS7"
      },
      "source": [
        "A function with multiple return values:"
      ]
    },
    {
      "cell_type": "code",
      "execution_count": null,
      "metadata": {
        "id": "TjQwDfsannS7"
      },
      "outputs": [],
      "source": [
        "def ArithmeticOprs(a,b):\n",
        "    return a + b, a-b, a * b, a/b"
      ]
    },
    {
      "cell_type": "code",
      "execution_count": null,
      "metadata": {
        "colab": {
          "base_uri": "https://localhost:8080/"
        },
        "id": "zDTJKJWonnS7",
        "outputId": "64d81b45-626f-4790-8514-01b69ae03c5f"
      },
      "outputs": [
        {
          "output_type": "execute_result",
          "data": {
            "text/plain": [
              "tuple"
            ]
          },
          "metadata": {},
          "execution_count": 9
        }
      ],
      "source": [
        "type(ArithmeticOprs(4,2))"
      ]
    },
    {
      "cell_type": "code",
      "execution_count": null,
      "metadata": {
        "colab": {
          "base_uri": "https://localhost:8080/"
        },
        "id": "MX6HAXk2nnS8",
        "outputId": "3638dc2b-f559-421b-cf70-cfa041943a81"
      },
      "outputs": [
        {
          "output_type": "execute_result",
          "data": {
            "text/plain": [
              "(6, 2, 8, 2.0)"
            ]
          },
          "metadata": {},
          "execution_count": 10
        }
      ],
      "source": [
        "ArithmeticOprs(4,2)"
      ]
    },
    {
      "cell_type": "markdown",
      "metadata": {
        "id": "0qsyIn9LnnS8"
      },
      "source": [
        "Default values for the input arguments:"
      ]
    },
    {
      "cell_type": "code",
      "execution_count": null,
      "metadata": {
        "id": "6icuMTsknnS8"
      },
      "outputs": [],
      "source": [
        "def ArithmeticOprs(a=2,b=1):\n",
        "    return a + b, a - b, a * b, a/b"
      ]
    },
    {
      "cell_type": "code",
      "execution_count": null,
      "metadata": {
        "colab": {
          "base_uri": "https://localhost:8080/"
        },
        "id": "fsgKkwMXnnS8",
        "outputId": "3b8f6aea-a2d4-4bf5-e582-079e410d7c96"
      },
      "outputs": [
        {
          "output_type": "execute_result",
          "data": {
            "text/plain": [
              "(3, 1, 2, 2.0)"
            ]
          },
          "metadata": {},
          "execution_count": 12
        }
      ],
      "source": [
        "ArithmeticOprs()"
      ]
    },
    {
      "cell_type": "code",
      "execution_count": null,
      "metadata": {
        "colab": {
          "base_uri": "https://localhost:8080/"
        },
        "id": "1XhvZkK5nnS8",
        "outputId": "d08bb764-15dd-487c-9bb9-654e5fa945aa"
      },
      "outputs": [
        {
          "output_type": "execute_result",
          "data": {
            "text/plain": [
              "(4, 2, 3, 3.0)"
            ]
          },
          "metadata": {},
          "execution_count": 13
        }
      ],
      "source": [
        "ArithmeticOprs(3)"
      ]
    },
    {
      "cell_type": "code",
      "execution_count": null,
      "metadata": {
        "colab": {
          "base_uri": "https://localhost:8080/"
        },
        "id": "aGYts5k_nnS8",
        "outputId": "ca632a91-604e-4865-ba72-ef3faa046ac3"
      },
      "outputs": [
        {
          "output_type": "execute_result",
          "data": {
            "text/plain": [
              "(5, -1, 6, 0.6666666666666666)"
            ]
          },
          "metadata": {},
          "execution_count": 14
        }
      ],
      "source": [
        "ArithmeticOprs(b=3)"
      ]
    },
    {
      "cell_type": "markdown",
      "metadata": {
        "id": "LtBKMRaannS8"
      },
      "source": [
        "A local variable's scope is limited to the function body where it is defined:"
      ]
    },
    {
      "cell_type": "code",
      "execution_count": null,
      "metadata": {
        "id": "jt-yNqHTnnS8"
      },
      "outputs": [],
      "source": [
        "# 'result' inside of the function body and 'result' outside of it are different variables.\n",
        "result = 333\n",
        "def average(*a):\n",
        "    result = 0\n",
        "    for x in a:\n",
        "        result += x\n",
        "    result /= len(a)\n",
        "    return result"
      ]
    },
    {
      "cell_type": "code",
      "execution_count": null,
      "metadata": {
        "colab": {
          "base_uri": "https://localhost:8080/"
        },
        "id": "wcwp0BF9nnS8",
        "outputId": "01111639-ea4c-4d1b-d8c4-ef8dcfd6fecb"
      },
      "outputs": [
        {
          "output_type": "execute_result",
          "data": {
            "text/plain": [
              "3.0"
            ]
          },
          "metadata": {},
          "execution_count": 16
        }
      ],
      "source": [
        "average(1,2,3,4,5)"
      ]
    },
    {
      "cell_type": "code",
      "execution_count": null,
      "metadata": {
        "colab": {
          "base_uri": "https://localhost:8080/"
        },
        "id": "V8AwjiCqnnS8",
        "outputId": "ed200429-e7d5-4ae4-e078-c52d93a54cd3"
      },
      "outputs": [
        {
          "output_type": "execute_result",
          "data": {
            "text/plain": [
              "333"
            ]
          },
          "metadata": {},
          "execution_count": 17
        }
      ],
      "source": [
        "# 'result' defined outside of the function kept its original value.\n",
        "result"
      ]
    },
    {
      "cell_type": "markdown",
      "metadata": {
        "id": "tlpH4REJnnS8"
      },
      "source": [
        "As 'result' is defined as a global variable, it is the same as the one defined outside of the function body."
      ]
    },
    {
      "cell_type": "code",
      "execution_count": null,
      "metadata": {
        "id": "WObqUGaWnnS8"
      },
      "outputs": [],
      "source": [
        "# Please, notice that there is no explicit return value.\n",
        "result = 0\n",
        "def average(*a):\n",
        "    global result\n",
        "    for x in a:\n",
        "        result += x\n",
        "    result /= len(a)\n",
        "    return"
      ]
    },
    {
      "cell_type": "code",
      "execution_count": null,
      "metadata": {
        "id": "0ec8NcLUnnS8"
      },
      "outputs": [],
      "source": [
        "average(1,2,3,4,5)"
      ]
    },
    {
      "cell_type": "code",
      "execution_count": null,
      "metadata": {
        "colab": {
          "base_uri": "https://localhost:8080/"
        },
        "id": "Cpk5ZKgQnnS8",
        "outputId": "665fd506-fc02-419f-b9da-c0f7a8665b17"
      },
      "outputs": [
        {
          "output_type": "execute_result",
          "data": {
            "text/plain": [
              "3.0"
            ]
          },
          "metadata": {},
          "execution_count": 20
        }
      ],
      "source": [
        "# Now, 'result' contains the value calculated byh the function.\n",
        "result"
      ]
    },
    {
      "cell_type": "markdown",
      "metadata": {
        "id": "WylXIZFannS8"
      },
      "source": [
        "#### 1.2. Lambda functions:"
      ]
    },
    {
      "cell_type": "code",
      "execution_count": null,
      "metadata": {
        "id": "c94HQn8JnnS8"
      },
      "outputs": [],
      "source": [
        "# This function returns a lambda function.\n",
        "def makeMyFunc(a):\n",
        "    return lambda x: a*x"
      ]
    },
    {
      "cell_type": "code",
      "execution_count": null,
      "metadata": {
        "id": "ds6jOMo1nnS8"
      },
      "outputs": [],
      "source": [
        "# Assign lambda function to a variable, so that it can be used just like any other function.\n",
        "myFunc = makeMyFunc(3)"
      ]
    },
    {
      "cell_type": "code",
      "execution_count": null,
      "metadata": {
        "colab": {
          "base_uri": "https://localhost:8080/"
        },
        "id": "Xi0yx-MHnnS8",
        "outputId": "de535da0-bdb2-4c94-fb61-41f4343e8afd"
      },
      "outputs": [
        {
          "output_type": "execute_result",
          "data": {
            "text/plain": [
              "function"
            ]
          },
          "metadata": {},
          "execution_count": 23
        }
      ],
      "source": [
        "type(myFunc)"
      ]
    },
    {
      "cell_type": "code",
      "execution_count": null,
      "metadata": {
        "colab": {
          "base_uri": "https://localhost:8080/"
        },
        "id": "n2VjRd93nnS8",
        "outputId": "e81a971b-566f-4418-fa4a-b5c116739488"
      },
      "outputs": [
        {
          "output_type": "execute_result",
          "data": {
            "text/plain": [
              "12"
            ]
          },
          "metadata": {},
          "execution_count": 24
        }
      ],
      "source": [
        "myFunc(4)"
      ]
    },
    {
      "cell_type": "markdown",
      "metadata": {
        "id": "wkOmrTLannS8"
      },
      "source": [
        "Lambda function with map() and filter():"
      ]
    },
    {
      "cell_type": "code",
      "execution_count": null,
      "metadata": {
        "id": "xH5TM9S1nnS8"
      },
      "outputs": [],
      "source": [
        "a = [1, 2, 3, 4, 5, 6, 7, 8, 9, 10]"
      ]
    },
    {
      "cell_type": "code",
      "execution_count": null,
      "metadata": {
        "colab": {
          "base_uri": "https://localhost:8080/"
        },
        "id": "ieLgELKlnnTD",
        "outputId": "f738f8d8-be78-4692-eba5-f20acad63199"
      },
      "outputs": [
        {
          "output_type": "execute_result",
          "data": {
            "text/plain": [
              "[2, 4, 6, 8, 10, 12, 14, 16, 18, 20]"
            ]
          },
          "metadata": {},
          "execution_count": 26
        }
      ],
      "source": [
        "# Map the lambda function to each element of the list.\n",
        "list(map(lambda x: x * 2, a))"
      ]
    },
    {
      "cell_type": "code",
      "execution_count": null,
      "metadata": {
        "colab": {
          "base_uri": "https://localhost:8080/"
        },
        "id": "pBCbIJW8nnTD",
        "outputId": "4fec2860-1011-4d5a-8c72-e51445fed6cd"
      },
      "outputs": [
        {
          "output_type": "execute_result",
          "data": {
            "text/plain": [
              "[3, 6, 9]"
            ]
          },
          "metadata": {},
          "execution_count": 27
        }
      ],
      "source": [
        "# Filter the list elements according to the condition given by the lambda function.\n",
        "list(filter(lambda x: x % 3 ==0, a))"
      ]
    },
    {
      "cell_type": "markdown",
      "metadata": {
        "id": "mnUmYgq-nnTD"
      },
      "source": [
        "#### 1.3. Custom modules:"
      ]
    },
    {
      "cell_type": "code",
      "execution_count": null,
      "metadata": {
        "colab": {
          "base_uri": "https://localhost:8080/"
        },
        "id": "nLE-kKhhnnTD",
        "outputId": "c42224d7-90a0-4fe4-8746-8581d67470d0"
      },
      "outputs": [
        {
          "output_type": "stream",
          "name": "stdout",
          "text": [
            "--2025-08-19 04:39:41--  https://raw.githubusercontent.com/stefannae/SIC-Artificial-Intelligence/main/SIC_AI_Coding_Exercises/SIC_AI_Chapter_02_Coding_Exercises/myModule.py\n",
            "Resolving raw.githubusercontent.com (raw.githubusercontent.com)... 185.199.108.133, 185.199.109.133, 185.199.110.133, ...\n",
            "Connecting to raw.githubusercontent.com (raw.githubusercontent.com)|185.199.108.133|:443... connected.\n",
            "HTTP request sent, awaiting response... 200 OK\n",
            "Length: 246 [text/plain]\n",
            "Saving to: ‘myModule.py’\n",
            "\n",
            "\rmyModule.py           0%[                    ]       0  --.-KB/s               \rmyModule.py         100%[===================>]     246  --.-KB/s    in 0s      \n",
            "\n",
            "2025-08-19 04:39:41 (3.33 MB/s) - ‘myModule.py’ saved [246/246]\n",
            "\n"
          ]
        }
      ],
      "source": [
        "# Download the example module from the GitHub repo if it does not exist locally\n",
        "!wget --no-clobber https://raw.githubusercontent.com/stefannae/SIC-Artificial-Intelligence/main/SIC_AI_Coding_Exercises/SIC_AI_Chapter_02_Coding_Exercises/myModule.py"
      ]
    },
    {
      "cell_type": "code",
      "execution_count": null,
      "metadata": {
        "id": "lffJHO_tnnTD"
      },
      "outputs": [],
      "source": [
        "import myModule as md"
      ]
    },
    {
      "cell_type": "code",
      "execution_count": null,
      "metadata": {
        "colab": {
          "base_uri": "https://localhost:8080/"
        },
        "id": "Gwv1QxinnnTD",
        "outputId": "ac3a7b65-63ed-48df-da4c-0abd066fabb1"
      },
      "outputs": [
        {
          "output_type": "execute_result",
          "data": {
            "text/plain": [
              "7"
            ]
          },
          "metadata": {},
          "execution_count": 30
        }
      ],
      "source": [
        "md.sum(3,4)"
      ]
    },
    {
      "cell_type": "code",
      "execution_count": null,
      "metadata": {
        "colab": {
          "base_uri": "https://localhost:8080/"
        },
        "id": "0hsn90yEnnTD",
        "outputId": "fb9404de-33bf-48cf-9505-ea2904de8cee"
      },
      "outputs": [
        {
          "output_type": "execute_result",
          "data": {
            "text/plain": [
              "20"
            ]
          },
          "metadata": {},
          "execution_count": 31
        }
      ],
      "source": [
        "md.product(4,5)"
      ]
    },
    {
      "cell_type": "code",
      "execution_count": null,
      "metadata": {
        "id": "hQlEw5qunnTD"
      },
      "outputs": [],
      "source": []
    }
  ],
  "metadata": {
    "kernelspec": {
      "display_name": "Python 3",
      "language": "python",
      "name": "python3"
    },
    "language_info": {
      "codemirror_mode": {
        "name": "ipython",
        "version": 3
      },
      "file_extension": ".py",
      "mimetype": "text/x-python",
      "name": "python",
      "nbconvert_exporter": "python",
      "pygments_lexer": "ipython3",
      "version": "3.7.3"
    },
    "colab": {
      "provenance": [],
      "name": "Function.ipynb",
      "include_colab_link": true
    }
  },
  "nbformat": 4,
  "nbformat_minor": 0
}