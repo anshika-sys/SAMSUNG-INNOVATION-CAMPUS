{
  "cells": [
    {
      "cell_type": "markdown",
      "metadata": {
        "id": "view-in-github",
        "colab_type": "text"
      },
      "source": [
        "<a href=\"https://colab.research.google.com/github/anshika-sys/SAMSUNG-INNOVATION-CAMPUS/blob/main/Mutable_data.ipynb\" target=\"_parent\"><img src=\"https://colab.research.google.com/assets/colab-badge.svg\" alt=\"Open In Colab\"/></a>"
      ]
    },
    {
      "cell_type": "markdown",
      "metadata": {
        "id": "I_Cp1KlJkOzM"
      },
      "source": [
        "### 1. Mutability:"
      ]
    },
    {
      "cell_type": "markdown",
      "metadata": {
        "id": "P7l8_SQgkOzN"
      },
      "source": [
        "#### 1.1. Immutable data types:"
      ]
    },
    {
      "cell_type": "code",
      "execution_count": null,
      "metadata": {
        "id": "PwVvSaj3kOzN"
      },
      "outputs": [],
      "source": [
        "# 'a' as a tuple, it is immutable.\n",
        "# 'a' has mutable as well as immutable elements.\n",
        "a = (1, 2, [3, 4])"
      ]
    },
    {
      "cell_type": "code",
      "execution_count": null,
      "metadata": {
        "colab": {
          "base_uri": "https://localhost:8080/",
          "height": 159
        },
        "id": "gRNww8f1kOzN",
        "outputId": "83c32e04-a62a-4912-fdd5-c26783434fe4"
      },
      "outputs": [
        {
          "output_type": "error",
          "ename": "TypeError",
          "evalue": "'tuple' object does not support item assignment",
          "traceback": [
            "\u001b[0;31m---------------------------------------------------------------------------\u001b[0m",
            "\u001b[0;31mTypeError\u001b[0m                                 Traceback (most recent call last)",
            "\u001b[0;32m/tmp/ipython-input-2785914324.py\u001b[0m in \u001b[0;36m<cell line: 0>\u001b[0;34m()\u001b[0m\n\u001b[1;32m      1\u001b[0m \u001b[0;31m# This will cause an error.\u001b[0m\u001b[0;34m\u001b[0m\u001b[0;34m\u001b[0m\u001b[0m\n\u001b[0;32m----> 2\u001b[0;31m \u001b[0ma\u001b[0m\u001b[0;34m[\u001b[0m\u001b[0;36m0\u001b[0m\u001b[0;34m]\u001b[0m \u001b[0;34m=\u001b[0m \u001b[0;36m1\u001b[0m\u001b[0;34m\u001b[0m\u001b[0;34m\u001b[0m\u001b[0m\n\u001b[0m",
            "\u001b[0;31mTypeError\u001b[0m: 'tuple' object does not support item assignment"
          ]
        }
      ],
      "source": [
        "# This will cause an error.\n",
        "a[0] = 1"
      ]
    },
    {
      "cell_type": "code",
      "execution_count": null,
      "metadata": {
        "colab": {
          "base_uri": "https://localhost:8080/"
        },
        "id": "5F1cO3hTkOzO",
        "outputId": "3c70c1d9-a2bb-473a-f68a-1796210b979e"
      },
      "outputs": [
        {
          "output_type": "execute_result",
          "data": {
            "text/plain": [
              "(1, 2, [-999, 4])"
            ]
          },
          "metadata": {},
          "execution_count": 3
        }
      ],
      "source": [
        "# This is possible without causing error.\n",
        "# because, we are modifying mutable part (list) within an immutable object.\n",
        "a[2][0] = -999\n",
        "a"
      ]
    },
    {
      "cell_type": "markdown",
      "metadata": {
        "id": "UMBrZga6kOzO"
      },
      "source": [
        "#### 1.2. Mutable data types:"
      ]
    },
    {
      "cell_type": "code",
      "execution_count": null,
      "metadata": {
        "id": "a_dVo8qCkOzO"
      },
      "outputs": [],
      "source": [
        "# 'a' as a list, it is mutable. However, the elements of 'a' are immutable.\n",
        "a = [1, 2, 3, 4, 5]\n",
        "b = a                              # A simple assignment."
      ]
    },
    {
      "cell_type": "code",
      "execution_count": null,
      "metadata": {
        "colab": {
          "base_uri": "https://localhost:8080/"
        },
        "id": "pKP2Wzk9kOzO",
        "outputId": "2f4cf29b-a510-440b-a490-307923970099"
      },
      "outputs": [
        {
          "output_type": "execute_result",
          "data": {
            "text/plain": [
              "136912293504064"
            ]
          },
          "metadata": {},
          "execution_count": 5
        }
      ],
      "source": [
        "id(a)"
      ]
    },
    {
      "cell_type": "code",
      "execution_count": null,
      "metadata": {
        "colab": {
          "base_uri": "https://localhost:8080/"
        },
        "id": "0nBjPceSkOzP",
        "outputId": "ec90738d-c954-433c-b30d-d81f3acfdef7"
      },
      "outputs": [
        {
          "output_type": "execute_result",
          "data": {
            "text/plain": [
              "136912293504064"
            ]
          },
          "metadata": {},
          "execution_count": 6
        }
      ],
      "source": [
        "id(b)"
      ]
    },
    {
      "cell_type": "markdown",
      "metadata": {
        "id": "jOxgi1iekOzP"
      },
      "source": [
        "'a' and 'b' are essentailly the same object. Change in 'b' affects 'a'."
      ]
    },
    {
      "cell_type": "code",
      "execution_count": null,
      "metadata": {
        "colab": {
          "base_uri": "https://localhost:8080/"
        },
        "id": "tMS0xgytkOzP",
        "outputId": "823d7e54-fa31-42dc-b4c9-ac9d1767d2f6"
      },
      "outputs": [
        {
          "output_type": "execute_result",
          "data": {
            "text/plain": [
              "[-999, 2, 3, 4, 5]"
            ]
          },
          "metadata": {},
          "execution_count": 7
        }
      ],
      "source": [
        "b[0] = -999\n",
        "b"
      ]
    },
    {
      "cell_type": "code",
      "execution_count": null,
      "metadata": {
        "colab": {
          "base_uri": "https://localhost:8080/"
        },
        "id": "Dzb7i7O3kOzP",
        "outputId": "5d17b1fa-116d-4091-880d-700fa9a6cedf"
      },
      "outputs": [
        {
          "output_type": "execute_result",
          "data": {
            "text/plain": [
              "[-999, 2, 3, 4, 5]"
            ]
          },
          "metadata": {},
          "execution_count": 8
        }
      ],
      "source": [
        "a"
      ]
    },
    {
      "cell_type": "markdown",
      "metadata": {
        "id": "2SUYIbYHkOzP"
      },
      "source": [
        "#### 1.3. Shallow copy:"
      ]
    },
    {
      "cell_type": "code",
      "execution_count": null,
      "metadata": {
        "id": "4CbhUVOhkOzP"
      },
      "outputs": [],
      "source": [
        "# 'a' as a list, it is mutable. However, the elements of 'a' are immutable.\n",
        "a = [1, 2, 3, 4, 5]\n",
        "b = a.copy()                       # This is a shallow copy. Same as b = a[:]"
      ]
    },
    {
      "cell_type": "code",
      "execution_count": null,
      "metadata": {
        "colab": {
          "base_uri": "https://localhost:8080/"
        },
        "id": "nJMeiTUskOzP",
        "outputId": "03c8e0d7-5d1a-437a-81ca-be42c66e32a5"
      },
      "outputs": [
        {
          "output_type": "execute_result",
          "data": {
            "text/plain": [
              "136912287391488"
            ]
          },
          "metadata": {},
          "execution_count": 10
        }
      ],
      "source": [
        "id(a)"
      ]
    },
    {
      "cell_type": "code",
      "execution_count": null,
      "metadata": {
        "colab": {
          "base_uri": "https://localhost:8080/"
        },
        "id": "ZJy3b3vekOzP",
        "outputId": "03873f60-147f-4532-f794-817910372b6b"
      },
      "outputs": [
        {
          "output_type": "execute_result",
          "data": {
            "text/plain": [
              "136912287247872"
            ]
          },
          "metadata": {},
          "execution_count": 11
        }
      ],
      "source": [
        "id(b)"
      ]
    },
    {
      "cell_type": "markdown",
      "metadata": {
        "id": "4fwAetsukOzP"
      },
      "source": [
        "'a' and 'b' are different objects. Change in 'b' does not affect 'a' or vice versa."
      ]
    },
    {
      "cell_type": "code",
      "execution_count": null,
      "metadata": {
        "colab": {
          "base_uri": "https://localhost:8080/"
        },
        "id": "ut_sLoAXkOzQ",
        "outputId": "4313f3de-dbde-43c7-9a48-2fd3720736d6"
      },
      "outputs": [
        {
          "output_type": "execute_result",
          "data": {
            "text/plain": [
              "[-999, 2, 3, 4, 5]"
            ]
          },
          "metadata": {},
          "execution_count": 12
        }
      ],
      "source": [
        "b[0] = -999\n",
        "b"
      ]
    },
    {
      "cell_type": "code",
      "execution_count": null,
      "metadata": {
        "colab": {
          "base_uri": "https://localhost:8080/"
        },
        "id": "nvXbCqG4kOzQ",
        "outputId": "63d90990-82b9-4206-8ab7-d7f6e14a65e6"
      },
      "outputs": [
        {
          "output_type": "execute_result",
          "data": {
            "text/plain": [
              "[1, 2, 3, 4, 5]"
            ]
          },
          "metadata": {},
          "execution_count": 13
        }
      ],
      "source": [
        "a"
      ]
    },
    {
      "cell_type": "markdown",
      "metadata": {
        "id": "p0dXR688kOzQ"
      },
      "source": [
        "#### 1.4. Shallow copy vs Deep copy:"
      ]
    },
    {
      "cell_type": "code",
      "execution_count": null,
      "metadata": {
        "id": "TwP4HNyUkOzQ"
      },
      "outputs": [],
      "source": [
        "import copy\n",
        "a = [1, 2, [3, 4, 5]]\n",
        "b = a.copy()                                   # 'b' is a shallow copy of 'a'.\n",
        "c = copy.deepcopy(a)                           # 'c' is a deep copy of 'a'."
      ]
    },
    {
      "cell_type": "markdown",
      "metadata": {
        "id": "H9VyODg2kOzQ"
      },
      "source": [
        "Change in the immutable element of 'a' only affects 'a':"
      ]
    },
    {
      "cell_type": "code",
      "execution_count": null,
      "metadata": {
        "id": "OBKd98HekOzQ"
      },
      "outputs": [],
      "source": [
        "a[0] = 666"
      ]
    },
    {
      "cell_type": "code",
      "execution_count": null,
      "metadata": {
        "colab": {
          "base_uri": "https://localhost:8080/"
        },
        "id": "uP0MKMRHkOzQ",
        "outputId": "112d1174-03cf-4e97-9fae-9b48e19f93c2"
      },
      "outputs": [
        {
          "output_type": "execute_result",
          "data": {
            "text/plain": [
              "[666, 2, [3, 4, 5]]"
            ]
          },
          "metadata": {},
          "execution_count": 16
        }
      ],
      "source": [
        "a"
      ]
    },
    {
      "cell_type": "code",
      "execution_count": null,
      "metadata": {
        "colab": {
          "base_uri": "https://localhost:8080/"
        },
        "id": "opHR0Bd5kOzQ",
        "outputId": "c4854c2d-1d14-4dbf-da84-a62eadac9146"
      },
      "outputs": [
        {
          "output_type": "execute_result",
          "data": {
            "text/plain": [
              "[1, 2, [3, 4, 5]]"
            ]
          },
          "metadata": {},
          "execution_count": 17
        }
      ],
      "source": [
        "b"
      ]
    },
    {
      "cell_type": "code",
      "execution_count": null,
      "metadata": {
        "colab": {
          "base_uri": "https://localhost:8080/"
        },
        "id": "sPX8gze0kOzQ",
        "outputId": "16be5920-0526-40c8-f6eb-315c8ecdc95c"
      },
      "outputs": [
        {
          "output_type": "execute_result",
          "data": {
            "text/plain": [
              "[1, 2, [3, 4, 5]]"
            ]
          },
          "metadata": {},
          "execution_count": 18
        }
      ],
      "source": [
        "c"
      ]
    },
    {
      "cell_type": "markdown",
      "metadata": {
        "id": "ezO0eQyLkOzQ"
      },
      "source": [
        "Change in the mutable element of 'a' also affects 'b', although 'c' remains still unaffected:"
      ]
    },
    {
      "cell_type": "code",
      "execution_count": null,
      "metadata": {
        "id": "Fqjnq5CGkOzQ"
      },
      "outputs": [],
      "source": [
        "a[2][0] = -999"
      ]
    },
    {
      "cell_type": "code",
      "execution_count": null,
      "metadata": {
        "colab": {
          "base_uri": "https://localhost:8080/"
        },
        "id": "wOFl4pWVkOzQ",
        "outputId": "3038a330-3c28-496e-dad2-18c35ad9cf09"
      },
      "outputs": [
        {
          "output_type": "execute_result",
          "data": {
            "text/plain": [
              "[666, 2, [-999, 4, 5]]"
            ]
          },
          "metadata": {},
          "execution_count": 20
        }
      ],
      "source": [
        "a"
      ]
    },
    {
      "cell_type": "code",
      "execution_count": null,
      "metadata": {
        "colab": {
          "base_uri": "https://localhost:8080/"
        },
        "id": "F0u2dv5gkOzQ",
        "outputId": "1f925f6e-b5ad-4ea2-9750-66b6f658419e"
      },
      "outputs": [
        {
          "output_type": "execute_result",
          "data": {
            "text/plain": [
              "[1, 2, [-999, 4, 5]]"
            ]
          },
          "metadata": {},
          "execution_count": 21
        }
      ],
      "source": [
        "b"
      ]
    },
    {
      "cell_type": "code",
      "execution_count": null,
      "metadata": {
        "colab": {
          "base_uri": "https://localhost:8080/"
        },
        "id": "ESV0kOVvkOzQ",
        "outputId": "1ed93d3b-11f1-4c10-942e-728acb2a85b7"
      },
      "outputs": [
        {
          "output_type": "execute_result",
          "data": {
            "text/plain": [
              "[1, 2, [3, 4, 5]]"
            ]
          },
          "metadata": {},
          "execution_count": 22
        }
      ],
      "source": [
        "c"
      ]
    },
    {
      "cell_type": "markdown",
      "metadata": {
        "id": "IkWcW2tEkOzQ"
      },
      "source": [
        "### 2. Variables:"
      ]
    },
    {
      "cell_type": "markdown",
      "metadata": {
        "id": "rGXlbCZ8kOzQ"
      },
      "source": [
        "Define multiple variables at a time:"
      ]
    },
    {
      "cell_type": "code",
      "execution_count": null,
      "metadata": {
        "id": "x7F8EujJkOzR"
      },
      "outputs": [],
      "source": [
        "a, b, c = (111, True, 'aaa')\n",
        "a, b, c = [111, True, 'aaa']\n",
        "a = b = c = 777"
      ]
    },
    {
      "cell_type": "markdown",
      "metadata": {
        "id": "b9z8vbVrkOzR"
      },
      "source": [
        "Swapping varaible values:"
      ]
    },
    {
      "cell_type": "code",
      "execution_count": null,
      "metadata": {
        "colab": {
          "base_uri": "https://localhost:8080/"
        },
        "id": "nDjXiOGXkOzR",
        "outputId": "a2e232ec-ac88-4f96-83e3-cd50e9940aff"
      },
      "outputs": [
        {
          "output_type": "execute_result",
          "data": {
            "text/plain": [
              "(777, 666)"
            ]
          },
          "metadata": {},
          "execution_count": 24
        }
      ],
      "source": [
        "x, y = 666, 777\n",
        "x, y = y,x\n",
        "x, y"
      ]
    },
    {
      "cell_type": "code",
      "source": [],
      "metadata": {
        "id": "PQrH4pphkg7A"
      },
      "execution_count": null,
      "outputs": []
    }
  ],
  "metadata": {
    "kernelspec": {
      "display_name": "Python 3",
      "language": "python",
      "name": "python3"
    },
    "language_info": {
      "codemirror_mode": {
        "name": "ipython",
        "version": 3
      },
      "file_extension": ".py",
      "mimetype": "text/x-python",
      "name": "python",
      "nbconvert_exporter": "python",
      "pygments_lexer": "ipython3",
      "version": "3.7.3"
    },
    "colab": {
      "provenance": [],
      "name": "Mutable_data.ipynb",
      "include_colab_link": true
    }
  },
  "nbformat": 4,
  "nbformat_minor": 0
}
