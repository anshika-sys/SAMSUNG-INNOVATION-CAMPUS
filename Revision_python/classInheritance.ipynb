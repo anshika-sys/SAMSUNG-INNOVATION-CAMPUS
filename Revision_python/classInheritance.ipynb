{
  "cells": [
    {
      "cell_type": "markdown",
      "metadata": {
        "id": "view-in-github",
        "colab_type": "text"
      },
      "source": [
        "<a href=\"https://colab.research.google.com/github/anshika-sys/SAMSUNG-INNOVATION-CAMPUS/blob/main/classInheritance.ipynb\" target=\"_parent\"><img src=\"https://colab.research.google.com/assets/colab-badge.svg\" alt=\"Open In Colab\"/></a>"
      ]
    },
    {
      "cell_type": "markdown",
      "metadata": {
        "id": "W9DLDiLdEZTN"
      },
      "source": [
        "### 1. Class inheritance:"
      ]
    },
    {
      "cell_type": "code",
      "execution_count": 1,
      "metadata": {
        "id": "WCBOjSznEZTO"
      },
      "outputs": [],
      "source": [
        "class Pet:\n",
        "    counter = 0\n",
        "    def __init__(self,name):\n",
        "        self.name = name\n",
        "        Pet.counter += 1\n",
        "    def __del__(self):\n",
        "        Pet.counter -= 1"
      ]
    },
    {
      "cell_type": "markdown",
      "metadata": {
        "id": "6z0QvIwVEZTP"
      },
      "source": [
        "Cat and Dog inherit from the Pet class:"
      ]
    },
    {
      "cell_type": "code",
      "execution_count": 2,
      "metadata": {
        "id": "yn--O4ZyEZTP"
      },
      "outputs": [],
      "source": [
        "class Cat(Pet):\n",
        "    def purr(self):\n",
        "        print(self.name + ' is purring...')\n",
        "\n",
        "class Dog(Pet):\n",
        "    def bark(self):\n",
        "        print(self.name + ' is barking...')"
      ]
    },
    {
      "cell_type": "code",
      "execution_count": 3,
      "metadata": {
        "id": "ICurpACFEZTP"
      },
      "outputs": [],
      "source": [
        "a_cat = Cat('Kitty')\n",
        "a_dog = Dog('Fido')"
      ]
    },
    {
      "cell_type": "code",
      "execution_count": 4,
      "metadata": {
        "id": "g7W7H8SAEZTQ",
        "outputId": "79e73260-05f8-4871-fa25-9c754f9006fc",
        "colab": {
          "base_uri": "https://localhost:8080/"
        }
      },
      "outputs": [
        {
          "output_type": "stream",
          "name": "stdout",
          "text": [
            "Kitty is purring...\n"
          ]
        }
      ],
      "source": [
        "a_cat.purr()"
      ]
    },
    {
      "cell_type": "code",
      "execution_count": 5,
      "metadata": {
        "id": "CttgoC1SEZTQ",
        "outputId": "73270f52-f4a4-40b5-9af1-b79e36d59fd3",
        "colab": {
          "base_uri": "https://localhost:8080/"
        }
      },
      "outputs": [
        {
          "output_type": "stream",
          "name": "stdout",
          "text": [
            "Fido is barking...\n"
          ]
        }
      ],
      "source": [
        "a_dog.bark()"
      ]
    },
    {
      "cell_type": "markdown",
      "metadata": {
        "id": "J0kOSU5sEZTR"
      },
      "source": [
        "Shitzu and Beagle inherit from the Dog class:"
      ]
    },
    {
      "cell_type": "code",
      "execution_count": 6,
      "metadata": {
        "id": "FGOxl75HEZTR"
      },
      "outputs": [],
      "source": [
        "class Shitzu(Dog):\n",
        "    def sleep(self):\n",
        "        print(self.name + ' sleeps 15 hours a day.')\n",
        "    def play(self):\n",
        "        print(self.name + ' plays 2 hours a day.')\n",
        "\n",
        "class Beagle(Dog):\n",
        "    def sleep(self):\n",
        "        print(self.name + ' sleeps 12 hours a day.')\n",
        "    def play(self):\n",
        "        print(self.name + ' plays 6 hours a day.')"
      ]
    },
    {
      "cell_type": "code",
      "execution_count": 7,
      "metadata": {
        "id": "4WrYV1iNEZTR"
      },
      "outputs": [],
      "source": [
        "dog1 = Shitzu('Ruby')\n",
        "dog2 = Shitzu('Buddy')\n",
        "dog3 = Beagle('Rocky')"
      ]
    },
    {
      "cell_type": "code",
      "execution_count": 8,
      "metadata": {
        "id": "UwFfC-p4EZTR",
        "outputId": "48256196-7437-437d-9e32-f0e852899402",
        "colab": {
          "base_uri": "https://localhost:8080/"
        }
      },
      "outputs": [
        {
          "output_type": "stream",
          "name": "stdout",
          "text": [
            "Ruby sleeps 15 hours a day.\n"
          ]
        }
      ],
      "source": [
        "dog1.sleep()"
      ]
    },
    {
      "cell_type": "code",
      "execution_count": 9,
      "metadata": {
        "id": "hkXniMkqEZTR",
        "outputId": "7fe12823-8006-468d-c7aa-7acd16bf7956",
        "colab": {
          "base_uri": "https://localhost:8080/"
        }
      },
      "outputs": [
        {
          "output_type": "stream",
          "name": "stdout",
          "text": [
            "Rocky sleeps 12 hours a day.\n"
          ]
        }
      ],
      "source": [
        "dog3.sleep()"
      ]
    },
    {
      "cell_type": "code",
      "execution_count": 10,
      "metadata": {
        "id": "Y7uxmDHLEZTS",
        "outputId": "4388691a-11a9-442d-98c1-d02350240520",
        "colab": {
          "base_uri": "https://localhost:8080/"
        }
      },
      "outputs": [
        {
          "output_type": "stream",
          "name": "stdout",
          "text": [
            "Buddy plays 2 hours a day.\n"
          ]
        }
      ],
      "source": [
        "dog2.play()"
      ]
    },
    {
      "cell_type": "code",
      "execution_count": 11,
      "metadata": {
        "id": "HPjZeVf6EZTS",
        "outputId": "7e78eefd-a605-407a-ead5-ba9fa509aa0e",
        "colab": {
          "base_uri": "https://localhost:8080/"
        }
      },
      "outputs": [
        {
          "output_type": "stream",
          "name": "stdout",
          "text": [
            "Rocky plays 6 hours a day.\n"
          ]
        }
      ],
      "source": [
        "dog3.play()"
      ]
    },
    {
      "cell_type": "code",
      "execution_count": 12,
      "metadata": {
        "id": "Mr0ndnhUEZTS",
        "outputId": "3c339b00-5114-44ae-d9c6-339caa2ef2c1",
        "colab": {
          "base_uri": "https://localhost:8080/"
        }
      },
      "outputs": [
        {
          "output_type": "execute_result",
          "data": {
            "text/plain": [
              "5"
            ]
          },
          "metadata": {},
          "execution_count": 12
        }
      ],
      "source": [
        "Pet.counter"
      ]
    },
    {
      "cell_type": "code",
      "execution_count": 13,
      "metadata": {
        "id": "PcopzkEaEZTS"
      },
      "outputs": [],
      "source": [
        "del dog3"
      ]
    },
    {
      "cell_type": "code",
      "execution_count": 14,
      "metadata": {
        "id": "4KXPyD1DEZTS",
        "outputId": "d79dd913-409d-4542-bf71-e42e906f9cd8",
        "colab": {
          "base_uri": "https://localhost:8080/"
        }
      },
      "outputs": [
        {
          "output_type": "execute_result",
          "data": {
            "text/plain": [
              "4"
            ]
          },
          "metadata": {},
          "execution_count": 14
        }
      ],
      "source": [
        "Pet.counter"
      ]
    },
    {
      "cell_type": "code",
      "source": [],
      "metadata": {
        "id": "Vy8z01W5Fe__"
      },
      "execution_count": null,
      "outputs": []
    }
  ],
  "metadata": {
    "kernelspec": {
      "display_name": "Python 3",
      "language": "python",
      "name": "python3"
    },
    "language_info": {
      "codemirror_mode": {
        "name": "ipython",
        "version": 3
      },
      "file_extension": ".py",
      "mimetype": "text/x-python",
      "name": "python",
      "nbconvert_exporter": "python",
      "pygments_lexer": "ipython3",
      "version": "3.7.3"
    },
    "colab": {
      "provenance": [],
      "name": "classInheritance.ipynb",
      "include_colab_link": true
    }
  },
  "nbformat": 4,
  "nbformat_minor": 0
}
