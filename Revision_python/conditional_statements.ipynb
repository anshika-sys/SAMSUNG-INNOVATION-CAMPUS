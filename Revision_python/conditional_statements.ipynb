{
  "cells": [
    {
      "cell_type": "markdown",
      "metadata": {
        "id": "view-in-github",
        "colab_type": "text"
      },
      "source": [
        "<a href=\"https://colab.research.google.com/github/anshika-sys/SAMSUNG-INNOVATION-CAMPUS/blob/main/conditional_statements.ipynb\" target=\"_parent\"><img src=\"https://colab.research.google.com/assets/colab-badge.svg\" alt=\"Open In Colab\"/></a>"
      ]
    },
    {
      "cell_type": "markdown",
      "metadata": {
        "id": "GY-dG8znk8ZN"
      },
      "source": [
        "## Coding Exercise #0105"
      ]
    },
    {
      "cell_type": "markdown",
      "metadata": {
        "id": "Wv6FS0Ezk8ZP"
      },
      "source": [
        "### 1. Conditional structure:"
      ]
    },
    {
      "cell_type": "code",
      "execution_count": null,
      "metadata": {
        "colab": {
          "base_uri": "https://localhost:8080/"
        },
        "id": "3jZlhrVvk8ZP",
        "outputId": "5114c60f-966d-44d3-e7e0-9b323eed4efb"
      },
      "outputs": [
        {
          "output_type": "stream",
          "name": "stdout",
          "text": [
            "How old are you? 45\n",
            "You are all grown up!\n"
          ]
        }
      ],
      "source": [
        "x = input(\"How old are you? \")\n",
        "x = int(x)\n",
        "if x < 8 :\n",
        "    print( str(x) + \" years old... You are a bit too young.\")\n",
        "elif x >=8 and x<19:\n",
        "    print( str(x) + \" years old... You must be a student.\")\n",
        "else:\n",
        "    print( \"You are all grown up!\")"
      ]
    },
    {
      "cell_type": "code",
      "execution_count": null,
      "metadata": {
        "colab": {
          "base_uri": "https://localhost:8080/"
        },
        "id": "UmFfuJr8k8ZQ",
        "outputId": "2de4f0d6-7b28-4aa6-f886-29599d17b30f"
      },
      "outputs": [
        {
          "output_type": "stream",
          "name": "stdout",
          "text": [
            "How much is 2*3? 6\n",
            "Correct.\n"
          ]
        }
      ],
      "source": [
        "x = input(\"How much is 2*3? \")\n",
        "x = int(x)\n",
        "if x == 2*3 :\n",
        "    print( \"Correct.\")\n",
        "else:\n",
        "    print( \"Incorrect\")"
      ]
    },
    {
      "cell_type": "code",
      "execution_count": null,
      "metadata": {
        "colab": {
          "base_uri": "https://localhost:8080/"
        },
        "id": "sDkkX1Gjk8ZQ",
        "outputId": "41915a73-12ba-48ef-b55e-9f1b51fa66a2"
      },
      "outputs": [
        {
          "output_type": "stream",
          "name": "stdout",
          "text": [
            "How much is 2*3? 5\n",
            "Incorrect\n"
          ]
        }
      ],
      "source": [
        "x = input(\"How much is 2*3? \")\n",
        "x = int(x)\n",
        "if x !=2*3 :\n",
        "    print( \"Incorrect\")\n",
        "else:\n",
        "    print( \"Correct.\")"
      ]
    },
    {
      "cell_type": "code",
      "execution_count": null,
      "metadata": {
        "colab": {
          "base_uri": "https://localhost:8080/"
        },
        "id": "ZJe7X6N9k8ZQ",
        "outputId": "f4fc0fdf-3b9b-4118-8b4f-57a4def515cc"
      },
      "outputs": [
        {
          "output_type": "stream",
          "name": "stdout",
          "text": [
            "How much is 2*3? 9\n",
            "Incorrect\n"
          ]
        }
      ],
      "source": [
        "x = input(\"How much is 2*3? \")\n",
        "x = int(x)\n",
        "y = ( x == 2*3)                                         # A Boolean statement.\n",
        "if y:\n",
        "    print( \"Correct.\")\n",
        "else:\n",
        "    print( \"Incorrect\")"
      ]
    },
    {
      "cell_type": "markdown",
      "metadata": {
        "id": "4aWK0jzRk8ZR"
      },
      "source": [
        "### 2. Loop structure:"
      ]
    },
    {
      "cell_type": "markdown",
      "metadata": {
        "id": "tkVPdun9k8ZR"
      },
      "source": [
        "#### 2.1. For loops:"
      ]
    },
    {
      "cell_type": "code",
      "execution_count": null,
      "metadata": {
        "colab": {
          "base_uri": "https://localhost:8080/"
        },
        "id": "fUJqETqZk8ZR",
        "outputId": "2271e595-a26c-4771-d080-07956d025bf2"
      },
      "outputs": [
        {
          "output_type": "stream",
          "name": "stdout",
          "text": [
            "Sum from 1 to 10 = 55\n"
          ]
        }
      ],
      "source": [
        "sum = 0\n",
        "for x in range(1, 11):\n",
        "    sum += x\n",
        "print(\"Sum from 1 to 10 = \" + str(sum))"
      ]
    },
    {
      "cell_type": "code",
      "execution_count": null,
      "metadata": {
        "colab": {
          "base_uri": "https://localhost:8080/"
        },
        "id": "bwmdU7CWk8ZR",
        "outputId": "8166706f-2b63-40d9-c94d-b0619717a58a"
      },
      "outputs": [
        {
          "output_type": "stream",
          "name": "stdout",
          "text": [
            "Sum of even numbers from 2 to 100 = 2550\n"
          ]
        }
      ],
      "source": [
        "sum = 0\n",
        "for x in range(2,101,2):\n",
        "    sum += x\n",
        "print(\"Sum of even numbers from 2 to 100 = \" + str(sum))"
      ]
    },
    {
      "cell_type": "code",
      "execution_count": null,
      "metadata": {
        "colab": {
          "base_uri": "https://localhost:8080/"
        },
        "id": "lBIJAlVUk8ZS",
        "outputId": "2cacc90f-5a5f-4470-8c6c-09865b4f6f9c"
      },
      "outputs": [
        {
          "output_type": "stream",
          "name": "stdout",
          "text": [
            "Sum of even numbers between 1 and 100 = 2550\n"
          ]
        }
      ],
      "source": [
        "sum = 0\n",
        "for x in range(1,101):\n",
        "    if ( x % 2 ==0):\n",
        "        sum += x\n",
        "print(\"Sum of even numbers between 1 and 100 = \" + str(sum))"
      ]
    },
    {
      "cell_type": "code",
      "execution_count": null,
      "metadata": {
        "colab": {
          "base_uri": "https://localhost:8080/"
        },
        "id": "qYEGckn4k8ZS",
        "outputId": "c07bc0d5-fcb4-4fe3-9b4b-dc246ca27437"
      },
      "outputs": [
        {
          "output_type": "stream",
          "name": "stdout",
          "text": [
            "Sum of odd numbers between 1 and 100 = 2500\n"
          ]
        }
      ],
      "source": [
        "sum = 0\n",
        "for x in range(1,101):\n",
        "    if ( x % 2 !=0):\n",
        "        sum += x\n",
        "print(\"Sum of odd numbers between 1 and 100 = \" + str(sum))"
      ]
    },
    {
      "cell_type": "code",
      "execution_count": null,
      "metadata": {
        "colab": {
          "base_uri": "https://localhost:8080/"
        },
        "id": "WAT-YitOk8ZS",
        "outputId": "c4ae768d-ae7a-4c50-a7a6-6e3bd78ddc71"
      },
      "outputs": [
        {
          "output_type": "stream",
          "name": "stdout",
          "text": [
            "Sum of multiples of 5 between 1 and 100 = 1050\n"
          ]
        }
      ],
      "source": [
        "sum = 0\n",
        "for x in range(1,101):\n",
        "    if x % 5 == 0:\n",
        "        sum += x\n",
        "print(\"Sum of multiples of 5 between 1 and 100 = \" + str(sum))"
      ]
    },
    {
      "cell_type": "code",
      "execution_count": null,
      "metadata": {
        "colab": {
          "base_uri": "https://localhost:8080/"
        },
        "id": "QMIykiDtk8ZS",
        "outputId": "1b5ced87-55d8-4071-881c-91e9bf7e28e9"
      },
      "outputs": [
        {
          "output_type": "stream",
          "name": "stdout",
          "text": [
            "You\n",
            "need\n",
            "Python!\n"
          ]
        }
      ],
      "source": [
        "my_list = ['You', 'need', 'Python!']\n",
        "for x in my_list:\n",
        "    print(x)"
      ]
    },
    {
      "cell_type": "code",
      "execution_count": null,
      "metadata": {
        "colab": {
          "base_uri": "https://localhost:8080/"
        },
        "id": "9CcEvUe0k8ZS",
        "outputId": "d8abc2b6-1917-42ab-e17a-0a779e658553"
      },
      "outputs": [
        {
          "output_type": "stream",
          "name": "stdout",
          "text": [
            "2 * 2 =  4 \n",
            "2 * 3 =  6 \n",
            "2 * 4 =  8 \n",
            "2 * 5 = 10 \n",
            "2 * 6 = 12 \n",
            "2 * 7 = 14 \n",
            "2 * 8 = 16 \n",
            "2 * 9 = 18 \n",
            "3 * 2 =  6 \n",
            "3 * 3 =  9 \n",
            "3 * 4 = 12 \n",
            "3 * 5 = 15 \n",
            "3 * 6 = 18 \n",
            "3 * 7 = 21 \n",
            "3 * 8 = 24 \n",
            "3 * 9 = 27 \n",
            "4 * 2 =  8 \n",
            "4 * 3 = 12 \n",
            "4 * 4 = 16 \n",
            "4 * 5 = 20 \n",
            "4 * 6 = 24 \n",
            "4 * 7 = 28 \n",
            "4 * 8 = 32 \n",
            "4 * 9 = 36 \n",
            "5 * 2 = 10 \n",
            "5 * 3 = 15 \n",
            "5 * 4 = 20 \n",
            "5 * 5 = 25 \n",
            "5 * 6 = 30 \n",
            "5 * 7 = 35 \n",
            "5 * 8 = 40 \n",
            "5 * 9 = 45 \n",
            "6 * 2 = 12 \n",
            "6 * 3 = 18 \n",
            "6 * 4 = 24 \n",
            "6 * 5 = 30 \n",
            "6 * 6 = 36 \n",
            "6 * 7 = 42 \n",
            "6 * 8 = 48 \n",
            "6 * 9 = 54 \n",
            "7 * 2 = 14 \n",
            "7 * 3 = 21 \n",
            "7 * 4 = 28 \n",
            "7 * 5 = 35 \n",
            "7 * 6 = 42 \n",
            "7 * 7 = 49 \n",
            "7 * 8 = 56 \n",
            "7 * 9 = 63 \n",
            "8 * 2 = 16 \n",
            "8 * 3 = 24 \n",
            "8 * 4 = 32 \n",
            "8 * 5 = 40 \n",
            "8 * 6 = 48 \n",
            "8 * 7 = 56 \n",
            "8 * 8 = 64 \n",
            "8 * 9 = 72 \n",
            "9 * 2 = 18 \n",
            "9 * 3 = 27 \n",
            "9 * 4 = 36 \n",
            "9 * 5 = 45 \n",
            "9 * 6 = 54 \n",
            "9 * 7 = 63 \n",
            "9 * 8 = 72 \n",
            "9 * 9 = 81 \n"
          ]
        }
      ],
      "source": [
        "# Multiplication table.\n",
        "# A 'for' loop within another.\n",
        "for i in range(2,10):\n",
        "    for j in range(2,10):\n",
        "        print( \"%1d * %1d = %2d \" % ( i, j, i * j))"
      ]
    },
    {
      "cell_type": "markdown",
      "metadata": {
        "id": "YAOWgeTsk8ZS"
      },
      "source": [
        "#### 2.2. While loops:"
      ]
    },
    {
      "cell_type": "code",
      "execution_count": null,
      "metadata": {
        "colab": {
          "base_uri": "https://localhost:8080/"
        },
        "id": "hod4jiuBk8ZS",
        "outputId": "05ed1ae4-7a16-4a85-cb42-6563b33b0b23"
      },
      "outputs": [
        {
          "output_type": "stream",
          "name": "stdout",
          "text": [
            "Sum of 1 through 10 = 55\n"
          ]
        }
      ],
      "source": [
        "counter = 0\n",
        "sum = 0\n",
        "while counter < 11:\n",
        "    sum += counter\n",
        "    counter += 1\n",
        "print(\"Sum of 1 through 10 = \" + str(sum))"
      ]
    },
    {
      "cell_type": "code",
      "execution_count": null,
      "metadata": {
        "colab": {
          "base_uri": "https://localhost:8080/"
        },
        "id": "Iy5NfFp9k8ZS",
        "outputId": "dea7effa-7ba3-4ab2-c49a-d517771fc113"
      },
      "outputs": [
        {
          "output_type": "stream",
          "name": "stdout",
          "text": [
            "Sum of multiples of 5 between 0 and 1000 = 100500\n"
          ]
        }
      ],
      "source": [
        "counter = 0\n",
        "sum = 0\n",
        "while counter < 1001:\n",
        "    if counter % 5 == 0:\n",
        "        sum += counter\n",
        "    counter += 1\n",
        "print(\"Sum of multiples of 5 between 0 and 1000 = \" + str(sum))"
      ]
    },
    {
      "cell_type": "code",
      "execution_count": null,
      "metadata": {
        "colab": {
          "base_uri": "https://localhost:8080/"
        },
        "id": "818NRf-Uk8ZS",
        "outputId": "01a4cb7b-8818-43c7-bd3e-02dcb9cecdb1"
      },
      "outputs": [
        {
          "output_type": "stream",
          "name": "stdout",
          "text": [
            "2 * 2 =  4 \n",
            "2 * 3 =  6 \n",
            "2 * 4 =  8 \n",
            "2 * 5 = 10 \n",
            "2 * 6 = 12 \n",
            "2 * 7 = 14 \n",
            "2 * 8 = 16 \n",
            "2 * 9 = 18 \n",
            "3 * 2 =  6 \n",
            "3 * 3 =  9 \n",
            "3 * 4 = 12 \n",
            "3 * 5 = 15 \n",
            "3 * 6 = 18 \n",
            "3 * 7 = 21 \n",
            "3 * 8 = 24 \n",
            "3 * 9 = 27 \n",
            "4 * 2 =  8 \n",
            "4 * 3 = 12 \n",
            "4 * 4 = 16 \n",
            "4 * 5 = 20 \n",
            "4 * 6 = 24 \n",
            "4 * 7 = 28 \n",
            "4 * 8 = 32 \n",
            "4 * 9 = 36 \n",
            "5 * 2 = 10 \n",
            "5 * 3 = 15 \n",
            "5 * 4 = 20 \n",
            "5 * 5 = 25 \n",
            "5 * 6 = 30 \n",
            "5 * 7 = 35 \n",
            "5 * 8 = 40 \n",
            "5 * 9 = 45 \n",
            "6 * 2 = 12 \n",
            "6 * 3 = 18 \n",
            "6 * 4 = 24 \n",
            "6 * 5 = 30 \n",
            "6 * 6 = 36 \n",
            "6 * 7 = 42 \n",
            "6 * 8 = 48 \n",
            "6 * 9 = 54 \n",
            "7 * 2 = 14 \n",
            "7 * 3 = 21 \n",
            "7 * 4 = 28 \n",
            "7 * 5 = 35 \n",
            "7 * 6 = 42 \n",
            "7 * 7 = 49 \n",
            "7 * 8 = 56 \n",
            "7 * 9 = 63 \n",
            "8 * 2 = 16 \n",
            "8 * 3 = 24 \n",
            "8 * 4 = 32 \n",
            "8 * 5 = 40 \n",
            "8 * 6 = 48 \n",
            "8 * 7 = 56 \n",
            "8 * 8 = 64 \n",
            "8 * 9 = 72 \n",
            "9 * 2 = 18 \n",
            "9 * 3 = 27 \n",
            "9 * 4 = 36 \n",
            "9 * 5 = 45 \n",
            "9 * 6 = 54 \n",
            "9 * 7 = 63 \n",
            "9 * 8 = 72 \n",
            "9 * 9 = 81 \n"
          ]
        }
      ],
      "source": [
        "# Multiplication table.\n",
        "# A 'while' loop within another.\n",
        "i = 1\n",
        "while i < 9:\n",
        "    i += 1\n",
        "    j = 2\n",
        "    while j < 10:\n",
        "        print( \"%1d * %1d = %2d \" % ( i, j, i*j))\n",
        "        j += 1"
      ]
    },
    {
      "cell_type": "code",
      "execution_count": null,
      "metadata": {
        "colab": {
          "base_uri": "https://localhost:8080/"
        },
        "id": "bu_dFarhk8ZS",
        "outputId": "b6cadfc3-3191-4567-a4aa-b756d276dd78"
      },
      "outputs": [
        {
          "output_type": "stream",
          "name": "stdout",
          "text": [
            "2 * 1 =  2 \n",
            "2 * 2 =  4 \n",
            "2 * 3 =  6 \n",
            "2 * 4 =  8 \n",
            "2 * 5 = 10 \n",
            "2 * 6 = 12 \n",
            "2 * 7 = 14 \n",
            "2 * 8 = 16 \n",
            "2 * 9 = 18 \n",
            "3 * 1 =  3 \n",
            "3 * 2 =  6 \n",
            "3 * 3 =  9 \n",
            "3 * 4 = 12 \n",
            "3 * 5 = 15 \n",
            "3 * 6 = 18 \n",
            "3 * 7 = 21 \n",
            "3 * 8 = 24 \n",
            "3 * 9 = 27 \n",
            "4 * 1 =  4 \n",
            "4 * 2 =  8 \n",
            "4 * 3 = 12 \n",
            "4 * 4 = 16 \n",
            "4 * 5 = 20 \n",
            "4 * 6 = 24 \n",
            "4 * 7 = 28 \n",
            "4 * 8 = 32 \n",
            "4 * 9 = 36 \n",
            "5 * 1 =  5 \n",
            "5 * 2 = 10 \n",
            "5 * 3 = 15 \n",
            "5 * 4 = 20 \n",
            "5 * 5 = 25 \n",
            "5 * 6 = 30 \n",
            "5 * 7 = 35 \n",
            "5 * 8 = 40 \n",
            "5 * 9 = 45 \n",
            "6 * 1 =  6 \n",
            "6 * 2 = 12 \n",
            "6 * 3 = 18 \n",
            "6 * 4 = 24 \n",
            "6 * 5 = 30 \n",
            "6 * 6 = 36 \n",
            "6 * 7 = 42 \n",
            "6 * 8 = 48 \n",
            "6 * 9 = 54 \n",
            "7 * 1 =  7 \n",
            "7 * 2 = 14 \n",
            "7 * 3 = 21 \n",
            "7 * 4 = 28 \n",
            "7 * 5 = 35 \n",
            "7 * 6 = 42 \n",
            "7 * 7 = 49 \n",
            "7 * 8 = 56 \n",
            "7 * 9 = 63 \n",
            "8 * 1 =  8 \n",
            "8 * 2 = 16 \n",
            "8 * 3 = 24 \n",
            "8 * 4 = 32 \n",
            "8 * 5 = 40 \n",
            "8 * 6 = 48 \n",
            "8 * 7 = 56 \n",
            "8 * 8 = 64 \n",
            "8 * 9 = 72 \n",
            "9 * 1 =  9 \n",
            "9 * 2 = 18 \n",
            "9 * 3 = 27 \n",
            "9 * 4 = 36 \n",
            "9 * 5 = 45 \n",
            "9 * 6 = 54 \n",
            "9 * 7 = 63 \n",
            "9 * 8 = 72 \n",
            "9 * 9 = 81 \n"
          ]
        }
      ],
      "source": [
        "# Multiplication table.\n",
        "# A 'for' loop within a 'while' loop.\n",
        "i = 1\n",
        "while i < 9:\n",
        "    i += 1\n",
        "    for j in range(1,10):\n",
        "        print( \"%1d * %1d = %2d \" % ( i, j, i*j))\n",
        "        j += 1"
      ]
    },
    {
      "cell_type": "code",
      "execution_count": null,
      "metadata": {
        "id": "veSjy_p3k8ZS"
      },
      "outputs": [],
      "source": []
    }
  ],
  "metadata": {
    "kernelspec": {
      "display_name": "Python 3",
      "language": "python",
      "name": "python3"
    },
    "language_info": {
      "codemirror_mode": {
        "name": "ipython",
        "version": 3
      },
      "file_extension": ".py",
      "mimetype": "text/x-python",
      "name": "python",
      "nbconvert_exporter": "python",
      "pygments_lexer": "ipython3",
      "version": "3.7.3"
    },
    "colab": {
      "provenance": [],
      "name": "conditional_statements.ipynb",
      "include_colab_link": true
    }
  },
  "nbformat": 4,
  "nbformat_minor": 0
}
