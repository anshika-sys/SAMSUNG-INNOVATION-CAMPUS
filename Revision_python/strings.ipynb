{
  "cells": [
    {
      "cell_type": "code",
      "execution_count": null,
      "metadata": {
        "colab": {
          "base_uri": "https://localhost:8080/"
        },
        "id": "hdflB3RZgNP9",
        "outputId": "420170b1-d852-467d-8e04-34453d5facde"
      },
      "outputs": [
        {
          "output_type": "stream",
          "name": "stdout",
          "text": [
            "He said, 'Python is very easy'\n",
            "He said, \"Python is very easy\"\n"
          ]
        }
      ],
      "source": [
        "# A quote within another quote.\n",
        "print(\"He said, 'Python is very easy'\")\n",
        "print('He said, \"Python is very easy\"')"
      ]
    },
    {
      "cell_type": "code",
      "execution_count": null,
      "metadata": {
        "colab": {
          "base_uri": "https://localhost:8080/"
        },
        "id": "xlydmmmsgNP9",
        "outputId": "5a26a868-89e9-4316-a7d8-197ebb4b9f8f"
      },
      "outputs": [
        {
          "output_type": "stream",
          "name": "stdout",
          "text": [
            "Hello !!!\n",
            "my\n",
            "name\n",
            "is\n",
            "Python.\n"
          ]
        }
      ],
      "source": [
        "# Multi-line string.\n",
        "my_string = \"\"\"Hello !!!\n",
        "my\n",
        "name\n",
        "is\n",
        "Python.\"\"\"\n",
        "print(my_string)"
      ]
    },
    {
      "cell_type": "markdown",
      "metadata": {
        "id": "FS4eYZC1gNP9"
      },
      "source": [
        "#### 2.2. Operations with strings:"
      ]
    },
    {
      "cell_type": "code",
      "execution_count": null,
      "metadata": {
        "colab": {
          "base_uri": "https://localhost:8080/"
        },
        "id": "HJR1oVvDgNP9",
        "outputId": "894f57c3-2e06-4e78-e81f-bc71b0c859db"
      },
      "outputs": [
        {
          "output_type": "stream",
          "name": "stdout",
          "text": [
            "First string. Second string.\n"
          ]
        }
      ],
      "source": [
        "str1 = 'First string. '\n",
        "str2 = 'Second string.'\n",
        "print(str1 + str2)"
      ]
    },
    {
      "cell_type": "code",
      "execution_count": null,
      "metadata": {
        "colab": {
          "base_uri": "https://localhost:8080/"
        },
        "id": "FsF1r5z1gNP9",
        "outputId": "d5a720f3-0947-4f18-adbf-34a62638e4d5"
      },
      "outputs": [
        {
          "output_type": "stream",
          "name": "stdout",
          "text": [
            "Python. Python. Python. Python. Python. \n"
          ]
        }
      ],
      "source": [
        "str = 'Python. '\n",
        "print(str*5)"
      ]
    },
    {
      "cell_type": "markdown",
      "metadata": {
        "id": "DmqM7HHygNP9"
      },
      "source": [
        "#### 2.3. Indexing and slilcing strings:"
      ]
    },
    {
      "cell_type": "code",
      "execution_count": null,
      "metadata": {
        "colab": {
          "base_uri": "https://localhost:8080/"
        },
        "id": "IJ3dl6gugNP9",
        "outputId": "d440484d-6e1a-4946-98da-a886568e8fe6"
      },
      "outputs": [
        {
          "output_type": "stream",
          "name": "stdout",
          "text": [
            "L\n",
            "!\n",
            "Life\n",
            "is too short, You need Python!\n"
          ]
        }
      ],
      "source": [
        "str = 'Life is too short, You need Python!'\n",
        "print(str[0])\n",
        "print(str[-1])\n",
        "print(str[0:4])\n",
        "print(str[5:])"
      ]
    },
    {
      "cell_type": "markdown",
      "metadata": {
        "id": "SxhtycHDgNP-"
      },
      "source": [
        "#### 2.4. Functions and methods for string objects:"
      ]
    },
    {
      "cell_type": "code",
      "execution_count": null,
      "metadata": {
        "colab": {
          "base_uri": "https://localhost:8080/"
        },
        "id": "fRpz1Q4ggNP-",
        "outputId": "9edcac87-0965-45c5-834f-5ce0d576a36b"
      },
      "outputs": [
        {
          "output_type": "stream",
          "name": "stdout",
          "text": [
            "6\n"
          ]
        }
      ],
      "source": [
        "x = 'Python'\n",
        "print(len(x))"
      ]
    },
    {
      "cell_type": "code",
      "execution_count": null,
      "metadata": {
        "colab": {
          "base_uri": "https://localhost:8080/"
        },
        "id": "gjTMJUoqgNP-",
        "outputId": "9dea245a-f1f7-42f0-fe40-cec380a393db"
      },
      "outputs": [
        {
          "output_type": "execute_result",
          "data": {
            "text/plain": [
              "1"
            ]
          },
          "metadata": {},
          "execution_count": 7
        }
      ],
      "source": [
        "x.count('h')"
      ]
    },
    {
      "cell_type": "code",
      "execution_count": null,
      "metadata": {
        "colab": {
          "base_uri": "https://localhost:8080/",
          "height": 35
        },
        "id": "dbo67jYYgNP-",
        "outputId": "374c2a1b-6111-4469-d2d9-12fdc932fbe3"
      },
      "outputs": [
        {
          "output_type": "execute_result",
          "data": {
            "text/plain": [
              "'PYTHON'"
            ],
            "application/vnd.google.colaboratory.intrinsic+json": {
              "type": "string"
            }
          },
          "metadata": {},
          "execution_count": 8
        }
      ],
      "source": [
        "x.upper()"
      ]
    },
    {
      "cell_type": "code",
      "execution_count": null,
      "metadata": {
        "colab": {
          "base_uri": "https://localhost:8080/",
          "height": 35
        },
        "id": "V4KR2BMRgNP-",
        "outputId": "e034f2ff-0e1c-45f9-bd87-f4208767181a"
      },
      "outputs": [
        {
          "output_type": "execute_result",
          "data": {
            "text/plain": [
              "'python'"
            ],
            "application/vnd.google.colaboratory.intrinsic+json": {
              "type": "string"
            }
          },
          "metadata": {},
          "execution_count": 9
        }
      ],
      "source": [
        "x.lower()"
      ]
    },
    {
      "cell_type": "code",
      "execution_count": null,
      "metadata": {
        "colab": {
          "base_uri": "https://localhost:8080/"
        },
        "id": "n6a4FfmdgNP-",
        "outputId": "2272d0fa-1af3-4ecf-f843-c291deedb84c"
      },
      "outputs": [
        {
          "output_type": "execute_result",
          "data": {
            "text/plain": [
              "4"
            ]
          },
          "metadata": {},
          "execution_count": 10
        }
      ],
      "source": [
        "x.find('o')"
      ]
    },
    {
      "cell_type": "code",
      "execution_count": null,
      "metadata": {
        "colab": {
          "base_uri": "https://localhost:8080/"
        },
        "id": "Orr3DsU0gNP-",
        "outputId": "d4080ef3-90c8-46ae-98b9-42419846d6fb"
      },
      "outputs": [
        {
          "output_type": "execute_result",
          "data": {
            "text/plain": [
              "-1"
            ]
          },
          "metadata": {},
          "execution_count": 11
        }
      ],
      "source": [
        "x.find('w')"
      ]
    },
    {
      "cell_type": "code",
      "execution_count": null,
      "metadata": {
        "colab": {
          "base_uri": "https://localhost:8080/"
        },
        "id": "_nVqK2T1gNP-",
        "outputId": "6a77f944-b0bc-4330-9194-a41a97b8084b"
      },
      "outputs": [
        {
          "output_type": "execute_result",
          "data": {
            "text/plain": [
              "4"
            ]
          },
          "metadata": {},
          "execution_count": 12
        }
      ],
      "source": [
        "x.index('o')"
      ]
    },
    {
      "cell_type": "code",
      "execution_count": null,
      "metadata": {
        "colab": {
          "base_uri": "https://localhost:8080/",
          "height": 159
        },
        "id": "Lpdb4zFTgNP-",
        "outputId": "f6398a4f-2dfd-48b6-e3fb-07bb15fb6847"
      },
      "outputs": [
        {
          "output_type": "error",
          "ename": "ValueError",
          "evalue": "substring not found",
          "traceback": [
            "\u001b[0;31m---------------------------------------------------------------------------\u001b[0m",
            "\u001b[0;31mValueError\u001b[0m                                Traceback (most recent call last)",
            "\u001b[0;32m/tmp/ipython-input-974259910.py\u001b[0m in \u001b[0;36m<cell line: 0>\u001b[0;34m()\u001b[0m\n\u001b[1;32m      1\u001b[0m \u001b[0;31m# 'w' is not found in x. This will result in an error.\u001b[0m\u001b[0;34m\u001b[0m\u001b[0;34m\u001b[0m\u001b[0m\n\u001b[0;32m----> 2\u001b[0;31m \u001b[0mx\u001b[0m\u001b[0;34m.\u001b[0m\u001b[0mindex\u001b[0m\u001b[0;34m(\u001b[0m\u001b[0;34m'w'\u001b[0m\u001b[0;34m)\u001b[0m\u001b[0;34m\u001b[0m\u001b[0;34m\u001b[0m\u001b[0m\n\u001b[0m",
            "\u001b[0;31mValueError\u001b[0m: substring not found"
          ]
        }
      ],
      "source": [
        "# 'w' is not found in x. This will result in an error.\n",
        "x.index('w')"
      ]
    },
    {
      "cell_type": "code",
      "execution_count": null,
      "metadata": {
        "id": "wpAHEkISgNP-"
      },
      "outputs": [],
      "source": [
        "x = 'Life is too short, You need Python!'"
      ]
    },
    {
      "cell_type": "code",
      "execution_count": null,
      "metadata": {
        "colab": {
          "base_uri": "https://localhost:8080/"
        },
        "id": "xFpY9WHsgNP-",
        "outputId": "a132cb65-6f78-4ad0-fc9a-dea227af5279"
      },
      "outputs": [
        {
          "output_type": "execute_result",
          "data": {
            "text/plain": [
              "['Life', 'is', 'too', 'short,', 'You', 'need', 'Python!']"
            ]
          },
          "metadata": {},
          "execution_count": 15
        }
      ],
      "source": [
        "\n",
        "x.split(' ')"
      ]
    },
    {
      "cell_type": "code",
      "execution_count": null,
      "metadata": {
        "colab": {
          "base_uri": "https://localhost:8080/"
        },
        "id": "UYTB9vPKgNP-",
        "outputId": "8b73e57e-8efd-4a3e-a3d2-275319ce4771"
      },
      "outputs": [
        {
          "output_type": "stream",
          "name": "stdout",
          "text": [
            "Life is too short, You need Python!\n"
          ]
        }
      ],
      "source": [
        "y = x.split(' ')\n",
        "a = ' '\n",
        "print(a.join(y))"
      ]
    },
    {
      "cell_type": "markdown",
      "metadata": {
        "id": "ybTHofxegNP-"
      },
      "source": [
        "### 3. Boolean:"
      ]
    },
    {
      "cell_type": "markdown",
      "metadata": {
        "id": "fddsOYlHgNP-"
      },
      "source": [
        "#### 3.1. Operations with Booleans:"
      ]
    },
    {
      "cell_type": "markdown",
      "metadata": {
        "id": "kvDmXH_DgNP-"
      },
      "source": [
        "AND operator:"
      ]
    },
    {
      "cell_type": "code",
      "execution_count": null,
      "metadata": {
        "colab": {
          "base_uri": "https://localhost:8080/"
        },
        "id": "rSplRtFjgNP-",
        "outputId": "ee5a951e-672e-473a-b4da-28060ef626e2"
      },
      "outputs": [
        {
          "output_type": "execute_result",
          "data": {
            "text/plain": [
              "False"
            ]
          },
          "metadata": {},
          "execution_count": 17
        }
      ],
      "source": [
        "False and False"
      ]
    },
    {
      "cell_type": "code",
      "execution_count": null,
      "metadata": {
        "colab": {
          "base_uri": "https://localhost:8080/"
        },
        "id": "lQTf5gX_gNP-",
        "outputId": "428a0e44-4199-4ac7-ad01-edb3f330f6e0"
      },
      "outputs": [
        {
          "output_type": "execute_result",
          "data": {
            "text/plain": [
              "False"
            ]
          },
          "metadata": {},
          "execution_count": 18
        }
      ],
      "source": [
        "False and True"
      ]
    },
    {
      "cell_type": "code",
      "execution_count": null,
      "metadata": {
        "colab": {
          "base_uri": "https://localhost:8080/"
        },
        "id": "fT5cWkaIgNP-",
        "outputId": "02bed40d-41c7-4a37-d95b-006725864cd7"
      },
      "outputs": [
        {
          "output_type": "execute_result",
          "data": {
            "text/plain": [
              "False"
            ]
          },
          "metadata": {},
          "execution_count": 19
        }
      ],
      "source": [
        "True and False"
      ]
    },
    {
      "cell_type": "code",
      "execution_count": null,
      "metadata": {
        "colab": {
          "base_uri": "https://localhost:8080/"
        },
        "id": "2zcIQHMPgNP-",
        "outputId": "e919926a-7897-48f5-9266-65ad8677275f"
      },
      "outputs": [
        {
          "output_type": "execute_result",
          "data": {
            "text/plain": [
              "True"
            ]
          },
          "metadata": {},
          "execution_count": 20
        }
      ],
      "source": [
        "\n",
        "True and True"
      ]
    },
    {
      "cell_type": "code",
      "execution_count": null,
      "metadata": {
        "colab": {
          "base_uri": "https://localhost:8080/"
        },
        "id": "3xAxV9s0gNP-",
        "outputId": "35b74168-0662-402c-87dd-f5a110089402"
      },
      "outputs": [
        {
          "output_type": "execute_result",
          "data": {
            "text/plain": [
              "False"
            ]
          },
          "metadata": {},
          "execution_count": 21
        }
      ],
      "source": [
        "(3 > 2) and (5 < 4)"
      ]
    },
    {
      "cell_type": "code",
      "execution_count": null,
      "metadata": {
        "colab": {
          "base_uri": "https://localhost:8080/"
        },
        "id": "LzihV8QcgNP_",
        "outputId": "26ae7e12-c59f-4ec0-d3d5-f3c56e90569d"
      },
      "outputs": [
        {
          "output_type": "execute_result",
          "data": {
            "text/plain": [
              "True"
            ]
          },
          "metadata": {},
          "execution_count": 22
        }
      ],
      "source": [
        "(3 > 2) and (5 > 4)"
      ]
    },
    {
      "cell_type": "markdown",
      "metadata": {
        "id": "u5Dsioi7gNP_"
      },
      "source": [
        "OR operator:"
      ]
    },
    {
      "cell_type": "code",
      "execution_count": null,
      "metadata": {
        "colab": {
          "base_uri": "https://localhost:8080/"
        },
        "id": "kmgkAoFXgNP_",
        "outputId": "0d9c66fe-036e-4641-e926-2326c1cbc22c"
      },
      "outputs": [
        {
          "output_type": "execute_result",
          "data": {
            "text/plain": [
              "False"
            ]
          },
          "metadata": {},
          "execution_count": 23
        }
      ],
      "source": [
        "False or False"
      ]
    },
    {
      "cell_type": "code",
      "execution_count": null,
      "metadata": {
        "colab": {
          "base_uri": "https://localhost:8080/"
        },
        "id": "XD-gvgrqgNQC",
        "outputId": "9e6a0d48-a030-400c-b2e2-787f3fc64143"
      },
      "outputs": [
        {
          "output_type": "execute_result",
          "data": {
            "text/plain": [
              "True"
            ]
          },
          "metadata": {},
          "execution_count": 24
        }
      ],
      "source": [
        "True or False"
      ]
    },
    {
      "cell_type": "code",
      "execution_count": null,
      "metadata": {
        "colab": {
          "base_uri": "https://localhost:8080/"
        },
        "id": "MzD6wxjqgNQC",
        "outputId": "ceff4800-428a-4b5e-ea8d-a13a78824942"
      },
      "outputs": [
        {
          "output_type": "execute_result",
          "data": {
            "text/plain": [
              "True"
            ]
          },
          "metadata": {},
          "execution_count": 25
        }
      ],
      "source": [
        "False or True"
      ]
    },
    {
      "cell_type": "code",
      "execution_count": null,
      "metadata": {
        "colab": {
          "base_uri": "https://localhost:8080/"
        },
        "id": "7mWp6qosgNQC",
        "outputId": "b0cec07e-9e50-442f-e413-81a14e4615a8"
      },
      "outputs": [
        {
          "output_type": "execute_result",
          "data": {
            "text/plain": [
              "True"
            ]
          },
          "metadata": {},
          "execution_count": 26
        }
      ],
      "source": [
        "False or True"
      ]
    },
    {
      "cell_type": "code",
      "execution_count": null,
      "metadata": {
        "colab": {
          "base_uri": "https://localhost:8080/"
        },
        "id": "MoFAmxPKgNQC",
        "outputId": "50b706ed-3166-4e05-8ecb-3b3d19643264"
      },
      "outputs": [
        {
          "output_type": "execute_result",
          "data": {
            "text/plain": [
              "True"
            ]
          },
          "metadata": {},
          "execution_count": 27
        }
      ],
      "source": [
        "True or True"
      ]
    },
    {
      "cell_type": "markdown",
      "metadata": {
        "id": "8UPrxbykgNQC"
      },
      "source": [
        "NOT operator:"
      ]
    },
    {
      "cell_type": "code",
      "execution_count": null,
      "metadata": {
        "colab": {
          "base_uri": "https://localhost:8080/"
        },
        "id": "_J4teLkpgNQC",
        "outputId": "c67a4b95-de59-4ff4-a065-2abd95049b06"
      },
      "outputs": [
        {
          "output_type": "execute_result",
          "data": {
            "text/plain": [
              "False"
            ]
          },
          "metadata": {},
          "execution_count": 28
        }
      ],
      "source": [
        "not True"
      ]
    },
    {
      "cell_type": "code",
      "execution_count": null,
      "metadata": {
        "colab": {
          "base_uri": "https://localhost:8080/"
        },
        "id": "11YBpgkNgNQC",
        "outputId": "a94ef490-d79c-42f7-dc95-d81094bfedca"
      },
      "outputs": [
        {
          "output_type": "execute_result",
          "data": {
            "text/plain": [
              "True"
            ]
          },
          "metadata": {},
          "execution_count": 29
        }
      ],
      "source": [
        "not False"
      ]
    },
    {
      "cell_type": "code",
      "execution_count": null,
      "metadata": {
        "colab": {
          "base_uri": "https://localhost:8080/"
        },
        "id": "FoWY2WllgNQC",
        "outputId": "766325e5-cac1-42a2-a4da-ce3b2de4890e"
      },
      "outputs": [
        {
          "output_type": "execute_result",
          "data": {
            "text/plain": [
              "False"
            ]
          },
          "metadata": {},
          "execution_count": 30
        }
      ],
      "source": [
        "not (4 > 2)"
      ]
    },
    {
      "cell_type": "code",
      "execution_count": null,
      "metadata": {
        "colab": {
          "base_uri": "https://localhost:8080/"
        },
        "id": "09o3hk0cgNQC",
        "outputId": "561bb57e-7ce9-4f13-d8d5-9d161e6c5c8c"
      },
      "outputs": [
        {
          "output_type": "execute_result",
          "data": {
            "text/plain": [
              "True"
            ]
          },
          "metadata": {},
          "execution_count": 31
        }
      ],
      "source": [
        "not (4 < 2)"
      ]
    },
    {
      "cell_type": "markdown",
      "metadata": {
        "id": "9x_kko8EgNQC"
      },
      "source": [
        "#### 3.2. Implicit Boolean:"
      ]
    },
    {
      "cell_type": "code",
      "execution_count": null,
      "metadata": {
        "id": "LvgSa_FcgNQC"
      },
      "outputs": [],
      "source": [
        "x = []\n",
        "y = [1,2,3]"
      ]
    },
    {
      "cell_type": "code",
      "execution_count": null,
      "metadata": {
        "colab": {
          "base_uri": "https://localhost:8080/"
        },
        "id": "NLdBtqnrgNQC",
        "outputId": "c36d4666-a964-4be9-f813-df323c08d150"
      },
      "outputs": [
        {
          "output_type": "stream",
          "name": "stdout",
          "text": [
            "Empty!\n"
          ]
        }
      ],
      "source": [
        "if x:\n",
        "    print('Not empty.')\n",
        "else:\n",
        "    print('Empty!')"
      ]
    },
    {
      "cell_type": "code",
      "execution_count": null,
      "metadata": {
        "colab": {
          "base_uri": "https://localhost:8080/"
        },
        "id": "tCZ-zzmJgNQC",
        "outputId": "19826e40-9f91-43c9-c176-2d1ff914ba57"
      },
      "outputs": [
        {
          "output_type": "stream",
          "name": "stdout",
          "text": [
            "Not empty.\n"
          ]
        }
      ],
      "source": [
        "if y:\n",
        "    print('Not empty.')\n",
        "else:\n",
        "    print('Empty!')"
      ]
    },
    {
      "cell_type": "code",
      "execution_count": null,
      "metadata": {
        "id": "nvj4sdUMgNQC"
      },
      "outputs": [],
      "source": []
    }
  ],
  "metadata": {
    "kernelspec": {
      "display_name": "Python 3",
      "language": "python",
      "name": "python3"
    },
    "language_info": {
      "codemirror_mode": {
        "name": "ipython",
        "version": 3
      },
      "file_extension": ".py",
      "mimetype": "text/x-python",
      "name": "python",
      "nbconvert_exporter": "python",
      "pygments_lexer": "ipython3",
      "version": "3.7.3"
    },
    "colab": {
      "provenance": [],
      "name": "strings.ipynb"
    }
  },
  "nbformat": 4,
  "nbformat_minor": 0
}