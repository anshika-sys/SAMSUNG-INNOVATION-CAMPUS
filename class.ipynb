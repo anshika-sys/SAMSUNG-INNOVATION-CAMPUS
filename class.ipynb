{
  "cells": [
    {
      "cell_type": "markdown",
      "metadata": {
        "id": "view-in-github",
        "colab_type": "text"
      },
      "source": [
        "<a href=\"https://colab.research.google.com/github/anshika-sys/SAMSUNG-INNOVATION-CAMPUS/blob/main/class.ipynb\" target=\"_parent\"><img src=\"https://colab.research.google.com/assets/colab-badge.svg\" alt=\"Open In Colab\"/></a>"
      ]
    },
    {
      "cell_type": "markdown",
      "metadata": {
        "id": "AhlOVLGq8tlE"
      },
      "source": [
        "### 1. Class:"
      ]
    },
    {
      "cell_type": "markdown",
      "metadata": {
        "id": "6Z8ynAf18tlE"
      },
      "source": [
        "#### 1.1. Constructor method:"
      ]
    },
    {
      "cell_type": "code",
      "execution_count": null,
      "metadata": {
        "id": "Tk4Kph548tlF"
      },
      "outputs": [],
      "source": [
        "class Dog:\n",
        "    def __init__(self, name, age):\n",
        "        self.name = name\n",
        "        self.age = age\n",
        "        print('A Dog object is created!')"
      ]
    },
    {
      "cell_type": "code",
      "execution_count": null,
      "metadata": {
        "colab": {
          "base_uri": "https://localhost:8080/"
        },
        "id": "wHzSvJ168tlF",
        "outputId": "e8071706-7153-4bc1-ec68-e73bb71ed207"
      },
      "outputs": [
        {
          "output_type": "stream",
          "name": "stdout",
          "text": [
            "A Dog object is created!\n"
          ]
        }
      ],
      "source": [
        "a_dog = Dog('Fido', 2)"
      ]
    },
    {
      "cell_type": "markdown",
      "metadata": {
        "id": "i8eDaIZn8tlF"
      },
      "source": [
        "#### 1.2. Destructor method:"
      ]
    },
    {
      "cell_type": "code",
      "execution_count": null,
      "metadata": {
        "id": "R4MRqFaJ8tlF"
      },
      "outputs": [],
      "source": [
        "class Dog:\n",
        "    def __init__(self, name, age):\n",
        "        self.name = name\n",
        "        self.age = age\n",
        "        print('A Dog object is created!')\n",
        "    def __del__(self):\n",
        "        print('A Dog object is deleted!')"
      ]
    },
    {
      "cell_type": "code",
      "execution_count": null,
      "metadata": {
        "colab": {
          "base_uri": "https://localhost:8080/"
        },
        "id": "ojT4s8Hu8tlF",
        "outputId": "9ad10711-d0de-4ad7-b464-f2aa54d75cb3"
      },
      "outputs": [
        {
          "output_type": "stream",
          "name": "stdout",
          "text": [
            "A Dog object is created!\n"
          ]
        }
      ],
      "source": [
        "a_dog = Dog('Fido', 2)"
      ]
    },
    {
      "cell_type": "code",
      "execution_count": null,
      "metadata": {
        "colab": {
          "base_uri": "https://localhost:8080/"
        },
        "id": "wy3PqsQS8tlF",
        "outputId": "a1eab2ce-7f62-4ef9-b904-7bd27f7f948b"
      },
      "outputs": [
        {
          "output_type": "stream",
          "name": "stdout",
          "text": [
            "A Dog object is deleted!\n"
          ]
        }
      ],
      "source": [
        "del a_dog"
      ]
    },
    {
      "cell_type": "markdown",
      "metadata": {
        "id": "63-3WEeT8tlG"
      },
      "source": [
        "#### 1.3. Memeber variable:"
      ]
    },
    {
      "cell_type": "code",
      "execution_count": null,
      "metadata": {
        "id": "9VtZEpvZ8tlG"
      },
      "outputs": [],
      "source": [
        "class Dog:\n",
        "    def __init__(self, name, age):\n",
        "        self.name = name\n",
        "        self.age = age"
      ]
    },
    {
      "cell_type": "code",
      "execution_count": null,
      "metadata": {
        "id": "mKFcMpE78tlG"
      },
      "outputs": [],
      "source": [
        "dog1 = Dog('Fido', 2)\n",
        "dog2 = Dog('Dido', 3)"
      ]
    },
    {
      "cell_type": "code",
      "execution_count": null,
      "metadata": {
        "colab": {
          "base_uri": "https://localhost:8080/"
        },
        "id": "utevt8Rc8tlG",
        "outputId": "6f311c5d-e28a-4db4-8221-28077a116667"
      },
      "outputs": [
        {
          "output_type": "stream",
          "name": "stdout",
          "text": [
            "Name: Fido \n",
            "Age: 2\n"
          ]
        }
      ],
      "source": [
        "print(\"Name: {0} \\nAge: {1}\".format(dog1.name, dog1.age))"
      ]
    },
    {
      "cell_type": "code",
      "execution_count": null,
      "metadata": {
        "colab": {
          "base_uri": "https://localhost:8080/"
        },
        "id": "2myMrK1y8tlG",
        "outputId": "64a3b51a-0dec-4d85-8cec-fabedc61a553"
      },
      "outputs": [
        {
          "output_type": "stream",
          "name": "stdout",
          "text": [
            "Name: Dido \n",
            "Age: 3\n"
          ]
        }
      ],
      "source": [
        "print(\"Name: {0} \\nAge: {1}\".format(dog2.name, dog2.age))"
      ]
    },
    {
      "cell_type": "markdown",
      "metadata": {
        "id": "E62I4o7R8tlG"
      },
      "source": [
        "#### 1.4. Class variable:"
      ]
    },
    {
      "cell_type": "code",
      "execution_count": null,
      "metadata": {
        "id": "4pGOV8AB8tlG"
      },
      "outputs": [],
      "source": [
        "class Dog:\n",
        "    counter = 0                            # This is a class variable.\n",
        "    def __init__(self, name):\n",
        "        self.name = name\n",
        "        Dog.counter += 1\n",
        "    def __del__(self):\n",
        "        Dog.counter -= 1"
      ]
    },
    {
      "cell_type": "code",
      "execution_count": null,
      "metadata": {
        "id": "tmnMWZhQ8tlG"
      },
      "outputs": [],
      "source": [
        "# Create 2 Dog objects.\n",
        "dog1 = Dog('Fido')\n",
        "dog2 = Dog('Dido')"
      ]
    },
    {
      "cell_type": "code",
      "execution_count": null,
      "metadata": {
        "colab": {
          "base_uri": "https://localhost:8080/"
        },
        "id": "zXgrooqC8tlG",
        "outputId": "e755d3ee-9d23-4790-bf1e-bf7bd9ad9996"
      },
      "outputs": [
        {
          "output_type": "execute_result",
          "data": {
            "text/plain": [
              "2"
            ]
          },
          "metadata": {},
          "execution_count": 12
        }
      ],
      "source": [
        "Dog.counter"
      ]
    },
    {
      "cell_type": "code",
      "execution_count": null,
      "metadata": {
        "colab": {
          "base_uri": "https://localhost:8080/"
        },
        "id": "PBl_GCJy8tlG",
        "outputId": "aee39981-d5d4-4c03-f9ab-f2f44a263874"
      },
      "outputs": [
        {
          "output_type": "execute_result",
          "data": {
            "text/plain": [
              "1"
            ]
          },
          "metadata": {},
          "execution_count": 13
        }
      ],
      "source": [
        "del dog1\n",
        "Dog.counter"
      ]
    },
    {
      "cell_type": "code",
      "execution_count": null,
      "metadata": {
        "colab": {
          "base_uri": "https://localhost:8080/"
        },
        "id": "ucycgpgW8tlG",
        "outputId": "38b75966-b853-42d1-907d-248c74856ecf"
      },
      "outputs": [
        {
          "output_type": "execute_result",
          "data": {
            "text/plain": [
              "0"
            ]
          },
          "metadata": {},
          "execution_count": 14
        }
      ],
      "source": [
        "del dog2\n",
        "Dog.counter"
      ]
    },
    {
      "cell_type": "markdown",
      "metadata": {
        "id": "wG0WkQfe8tlG"
      },
      "source": [
        "#### 1.5. Member method:"
      ]
    },
    {
      "cell_type": "code",
      "execution_count": null,
      "metadata": {
        "id": "txqCFx2X8tlG"
      },
      "outputs": [],
      "source": [
        "class Dog:\n",
        "    def __init__(self, name, age):\n",
        "        self.name = name\n",
        "        self.age = age\n",
        "    def bark(self):\n",
        "        print(self.name + ' is barking... woof... woof...')"
      ]
    },
    {
      "cell_type": "code",
      "execution_count": null,
      "metadata": {
        "colab": {
          "base_uri": "https://localhost:8080/"
        },
        "id": "sanjdWoq8tlG",
        "outputId": "c29ff836-e61a-4a54-ce98-4ccba6cf3cb0"
      },
      "outputs": [
        {
          "output_type": "stream",
          "name": "stdout",
          "text": [
            "Baduk is barking... woof... woof...\n"
          ]
        }
      ],
      "source": [
        "a_dog = Dog('Baduk', 2)\n",
        "a_dog.bark()"
      ]
    },
    {
      "cell_type": "code",
      "execution_count": null,
      "metadata": {
        "id": "WAoSDX9a8tlH"
      },
      "outputs": [],
      "source": []
    }
  ],
  "metadata": {
    "kernelspec": {
      "display_name": "Python 3",
      "language": "python",
      "name": "python3"
    },
    "language_info": {
      "codemirror_mode": {
        "name": "ipython",
        "version": 3
      },
      "file_extension": ".py",
      "mimetype": "text/x-python",
      "name": "python",
      "nbconvert_exporter": "python",
      "pygments_lexer": "ipython3",
      "version": "3.7.3"
    },
    "colab": {
      "provenance": [],
      "name": "class.ipynb",
      "include_colab_link": true
    }
  },
  "nbformat": 4,
  "nbformat_minor": 0
}