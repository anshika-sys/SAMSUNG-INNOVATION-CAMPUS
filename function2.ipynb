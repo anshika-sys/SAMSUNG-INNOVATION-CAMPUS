{
  "cells": [
    {
      "cell_type": "markdown",
      "metadata": {
        "id": "view-in-github",
        "colab_type": "text"
      },
      "source": [
        "<a href=\"https://colab.research.google.com/github/anshika-sys/SAMSUNG-INNOVATION-CAMPUS/blob/main/function2.ipynb\" target=\"_parent\"><img src=\"https://colab.research.google.com/assets/colab-badge.svg\" alt=\"Open In Colab\"/></a>"
      ]
    },
    {
      "cell_type": "markdown",
      "metadata": {
        "id": "RJhg9TWIGQWL"
      },
      "source": [
        "### 1. A function that returns the absolute value:"
      ]
    },
    {
      "cell_type": "code",
      "execution_count": 1,
      "metadata": {
        "id": "oQC19n2fGQWL"
      },
      "outputs": [],
      "source": [
        "def ABS(x):\n",
        "    if x >= 0:\n",
        "        result = x\n",
        "    else:\n",
        "        result = -x\n",
        "    return result"
      ]
    },
    {
      "cell_type": "code",
      "execution_count": 2,
      "metadata": {
        "id": "ZWiw1YfVGQWM",
        "outputId": "93612360-b0c9-4bff-8d7a-3d46b34805e2",
        "colab": {
          "base_uri": "https://localhost:8080/"
        }
      },
      "outputs": [
        {
          "output_type": "execute_result",
          "data": {
            "text/plain": [
              "3"
            ]
          },
          "metadata": {},
          "execution_count": 2
        }
      ],
      "source": [
        "ABS(3)"
      ]
    },
    {
      "cell_type": "code",
      "execution_count": 3,
      "metadata": {
        "id": "x3zBg8AHGQWM",
        "outputId": "fd7392ce-a610-4e1f-fd68-8c190a28f774",
        "colab": {
          "base_uri": "https://localhost:8080/"
        }
      },
      "outputs": [
        {
          "output_type": "execute_result",
          "data": {
            "text/plain": [
              "7"
            ]
          },
          "metadata": {},
          "execution_count": 3
        }
      ],
      "source": [
        "ABS(-7)"
      ]
    },
    {
      "cell_type": "markdown",
      "metadata": {
        "id": "xZCfpV4SGQWM"
      },
      "source": [
        "### 2. A function that returns the maximum value:"
      ]
    },
    {
      "cell_type": "code",
      "execution_count": 4,
      "metadata": {
        "id": "HGdWaZt2GQWN"
      },
      "outputs": [],
      "source": [
        "def MAX(x):\n",
        "    n = len(x)\n",
        "    my_max = x[0]                 # Initialize the maximum with the first element.\n",
        "    for i in range(1, n):\n",
        "        if x[i] > my_max:         # If the current element is larger than the stored maximum,\n",
        "            my_max = x[i]         # then replace it.\n",
        "    return my_max"
      ]
    },
    {
      "cell_type": "code",
      "execution_count": 5,
      "metadata": {
        "id": "bceWStbXGQWN"
      },
      "outputs": [],
      "source": [
        "a = [ 999, 131, -542, 1022, 1021, 45, 77]"
      ]
    },
    {
      "cell_type": "code",
      "execution_count": 6,
      "metadata": {
        "id": "PMH56TnrGQWO",
        "outputId": "8640571a-c81e-43a5-8885-39187fd08bc8",
        "colab": {
          "base_uri": "https://localhost:8080/"
        }
      },
      "outputs": [
        {
          "output_type": "execute_result",
          "data": {
            "text/plain": [
              "1022"
            ]
          },
          "metadata": {},
          "execution_count": 6
        }
      ],
      "source": [
        "MAX(a)"
      ]
    },
    {
      "cell_type": "markdown",
      "metadata": {
        "id": "IBNx4A1uGQWO"
      },
      "source": [
        "### 3. A function that finds the repeated values (set):"
      ]
    },
    {
      "cell_type": "code",
      "execution_count": 7,
      "metadata": {
        "id": "ILp1S8XEGQWO"
      },
      "outputs": [],
      "source": [
        "def FIND_SAME(x):\n",
        "    n = len(x)\n",
        "    result = set()                     # Initialize an empty 'result' set.\n",
        "    for i in range(0, n-1):            # Iterate on i from 0 to n-2.\n",
        "        for j in range(i + 1, n):      # Iterate on j from i+1 to n-1.\n",
        "            if x[i] == x[j]:           # If a repetition is detected,\n",
        "                result.add(x[i])       # include it to the 'result' set.\n",
        "    return list(result)"
      ]
    },
    {
      "cell_type": "code",
      "execution_count": 8,
      "metadata": {
        "id": "YqJiMRGCGQWO"
      },
      "outputs": [],
      "source": [
        "a = ['Tom', 'Jerry', 'Mike','Sara','Tom','Sara', 'John']"
      ]
    },
    {
      "cell_type": "code",
      "execution_count": 9,
      "metadata": {
        "id": "D1gGE0l7GQWP",
        "outputId": "e5d5e1c4-e0e1-4b58-f518-39b338232250",
        "colab": {
          "base_uri": "https://localhost:8080/"
        }
      },
      "outputs": [
        {
          "output_type": "execute_result",
          "data": {
            "text/plain": [
              "['Sara', 'Tom']"
            ]
          },
          "metadata": {},
          "execution_count": 9
        }
      ],
      "source": [
        "FIND_SAME(a)"
      ]
    },
    {
      "cell_type": "code",
      "execution_count": 10,
      "metadata": {
        "id": "AmRjrbpnGQWP"
      },
      "outputs": [],
      "source": [
        "b = [1,1,1,2,3,4,2,3,5,6,7,8,9,4]"
      ]
    },
    {
      "cell_type": "code",
      "execution_count": 11,
      "metadata": {
        "id": "7MAUIJzdGQWP",
        "outputId": "9f67a893-e754-4512-f210-c7d1d56fa0a4",
        "colab": {
          "base_uri": "https://localhost:8080/"
        }
      },
      "outputs": [
        {
          "output_type": "execute_result",
          "data": {
            "text/plain": [
              "[1, 2, 3, 4]"
            ]
          },
          "metadata": {},
          "execution_count": 11
        }
      ],
      "source": [
        "FIND_SAME(b)"
      ]
    },
    {
      "cell_type": "markdown",
      "metadata": {
        "id": "qgbr9LYCGQWP"
      },
      "source": [
        "### 4. A function that finds the repeated values (dictionary):"
      ]
    },
    {
      "cell_type": "code",
      "execution_count": 12,
      "metadata": {
        "id": "MklqAAQAGQWP"
      },
      "outputs": [],
      "source": [
        "def FIND_SAME_DICT(x):\n",
        "    my_dict = {}                       # An empty dictionary.\n",
        "    for name in x:                     # Iterate over each element of the list.\n",
        "        if name in my_dict:            # If the element is already included as dictionary key,\n",
        "            my_dict[name] += 1         # increase the corresponding value by 1.\n",
        "        else:                          # if not,\n",
        "            my_dict[name] = 1          # Include the new key:value pair with the value set to 1.\n",
        "    result = []\n",
        "    for name in my_dict:               # Iterate over the dictionay keys.\n",
        "        if my_dict[name] >= 2:         # If the corresponding value is larger than 2, it is recognized as repetition\n",
        "            result.append(name)        # and append the key to the output list.\n",
        "    return result"
      ]
    },
    {
      "cell_type": "code",
      "execution_count": 13,
      "metadata": {
        "id": "5SNaSZg9GQWP",
        "outputId": "8cf415ce-6146-46ac-e0ad-54892536a490",
        "colab": {
          "base_uri": "https://localhost:8080/"
        }
      },
      "outputs": [
        {
          "output_type": "execute_result",
          "data": {
            "text/plain": [
              "['Tom', 'Sara']"
            ]
          },
          "metadata": {},
          "execution_count": 13
        }
      ],
      "source": [
        "FIND_SAME_DICT(a)"
      ]
    },
    {
      "cell_type": "code",
      "execution_count": 14,
      "metadata": {
        "id": "tSNtBTZwGQWP",
        "outputId": "26d76c10-68cf-42bd-d434-0236a2bab979",
        "colab": {
          "base_uri": "https://localhost:8080/"
        }
      },
      "outputs": [
        {
          "output_type": "execute_result",
          "data": {
            "text/plain": [
              "[1, 2, 3, 4]"
            ]
          },
          "metadata": {},
          "execution_count": 14
        }
      ],
      "source": [
        "FIND_SAME(b)"
      ]
    },
    {
      "cell_type": "markdown",
      "metadata": {
        "id": "HjwmPDj6GQWP"
      },
      "source": [
        "### 5. Binary search:"
      ]
    },
    {
      "cell_type": "code",
      "execution_count": 15,
      "metadata": {
        "id": "55cZgJc4GQWP"
      },
      "outputs": [],
      "source": [
        "# input:  a = list, x = searched value.\n",
        "# output: position of the searched value. If not found, return -1.\n",
        "#\n",
        "def binary_search(a, x):\n",
        "    # 'left' and 'right' determines the search range.\n",
        "    left = 0\n",
        "    right = len(a) - 1\n",
        "    while left <= right:              # Keep searching while there is non-zero range left.\n",
        "        mid = (left + right)//2      # Middle of the search range. Floor division applied.\n",
        "        if x == a[mid]:              # Found!\n",
        "            return mid\n",
        "        elif x > a[mid]:             # If the searched value is larger than the middle value,\n",
        "            left = mid + 1           #  reduce the search range to the right half.\n",
        "        else:                        # If the searched value is samller than the middle value\n",
        "            right = mid - 1          #  reduce the search range to the left half.\n",
        "    return -1                        # When the search was not successful."
      ]
    },
    {
      "cell_type": "code",
      "execution_count": 16,
      "metadata": {
        "id": "opCD13tEGQWP"
      },
      "outputs": [],
      "source": [
        "d = [1,4,9,16,25,36,49,64,81]"
      ]
    },
    {
      "cell_type": "code",
      "execution_count": 17,
      "metadata": {
        "id": "5GsmX-8fGQWP",
        "outputId": "d16c642e-8212-40f6-c343-663c48afbb7e",
        "colab": {
          "base_uri": "https://localhost:8080/"
        }
      },
      "outputs": [
        {
          "output_type": "execute_result",
          "data": {
            "text/plain": [
              "5"
            ]
          },
          "metadata": {},
          "execution_count": 17
        }
      ],
      "source": [
        "binary_search(d,36)"
      ]
    },
    {
      "cell_type": "code",
      "execution_count": 18,
      "metadata": {
        "id": "d1w_UtKDGQWQ",
        "outputId": "24917757-c44f-43b3-86a8-1e370a28b35b",
        "colab": {
          "base_uri": "https://localhost:8080/"
        }
      },
      "outputs": [
        {
          "output_type": "execute_result",
          "data": {
            "text/plain": [
              "-1"
            ]
          },
          "metadata": {},
          "execution_count": 18
        }
      ],
      "source": [
        "binary_search(d,50)"
      ]
    },
    {
      "cell_type": "code",
      "execution_count": null,
      "metadata": {
        "id": "bOEZn0pdGQWQ"
      },
      "outputs": [],
      "source": []
    }
  ],
  "metadata": {
    "kernelspec": {
      "display_name": "Python 3",
      "language": "python",
      "name": "python3"
    },
    "language_info": {
      "codemirror_mode": {
        "name": "ipython",
        "version": 3
      },
      "file_extension": ".py",
      "mimetype": "text/x-python",
      "name": "python",
      "nbconvert_exporter": "python",
      "pygments_lexer": "ipython3",
      "version": "3.7.3"
    },
    "colab": {
      "provenance": [],
      "name": "function2.ipynb",
      "include_colab_link": true
    }
  },
  "nbformat": 4,
  "nbformat_minor": 0
}