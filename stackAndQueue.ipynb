{
  "cells": [
    {
      "cell_type": "markdown",
      "metadata": {
        "id": "view-in-github",
        "colab_type": "text"
      },
      "source": [
        "<a href=\"https://colab.research.google.com/github/anshika-sys/SAMSUNG-INNOVATION-CAMPUS/blob/main/stackAndQueue.ipynb\" target=\"_parent\"><img src=\"https://colab.research.google.com/assets/colab-badge.svg\" alt=\"Open In Colab\"/></a>"
      ]
    },
    {
      "cell_type": "markdown",
      "metadata": {
        "id": "AgFa_5LVHdGC"
      },
      "source": [
        "### 1. Queue vs Stack:"
      ]
    },
    {
      "cell_type": "markdown",
      "metadata": {
        "id": "ngVxIwbKHdGD"
      },
      "source": [
        "Queue's *dequeue* action:"
      ]
    },
    {
      "cell_type": "code",
      "execution_count": 1,
      "metadata": {
        "id": "U4qSG44BHdGD",
        "outputId": "070d5f94-6eb1-443a-d879-604436f46656",
        "colab": {
          "base_uri": "https://localhost:8080/"
        }
      },
      "outputs": [
        {
          "output_type": "stream",
          "name": "stdout",
          "text": [
            "a\n",
            "b\n",
            "c\n",
            "d\n",
            "e\n"
          ]
        }
      ],
      "source": [
        "a=['a','b','c','d','e']\n",
        "while a:\n",
        "    print(a.pop(0))"
      ]
    },
    {
      "cell_type": "markdown",
      "metadata": {
        "id": "65EvEEukHdGE"
      },
      "source": [
        "Stack's *pop* action:"
      ]
    },
    {
      "cell_type": "code",
      "execution_count": 2,
      "metadata": {
        "id": "1aQ3FzhzHdGE",
        "outputId": "a5ea8f77-b054-4c00-a9c1-b99000ffd53f",
        "colab": {
          "base_uri": "https://localhost:8080/"
        }
      },
      "outputs": [
        {
          "output_type": "stream",
          "name": "stdout",
          "text": [
            "e\n",
            "d\n",
            "c\n",
            "b\n",
            "a\n"
          ]
        }
      ],
      "source": [
        "a=['a','b','c','d','e']\n",
        "while a:\n",
        "    print(a.pop())                        # Pop from the last."
      ]
    },
    {
      "cell_type": "markdown",
      "metadata": {
        "id": "GOj3dDwIHdGE"
      },
      "source": [
        "### 2. Using stack:"
      ]
    },
    {
      "cell_type": "markdown",
      "metadata": {
        "id": "6km-BvoUHdGF"
      },
      "source": [
        "#### 2.1. Reverse the order of a list:"
      ]
    },
    {
      "cell_type": "code",
      "execution_count": 3,
      "metadata": {
        "id": "9kCBna6gHdGF",
        "outputId": "9ab98b90-3078-4d68-f873-6e87bee83624",
        "colab": {
          "base_uri": "https://localhost:8080/"
        }
      },
      "outputs": [
        {
          "output_type": "execute_result",
          "data": {
            "text/plain": [
              "['e', 'd', 'c', 'b', 'a']"
            ]
          },
          "metadata": {},
          "execution_count": 3
        }
      ],
      "source": [
        "a=['a','b','c','d','e']\n",
        "b = []\n",
        "while a:\n",
        "    x = a.pop()                           # Pop from the last <= stack.\n",
        "    b.append(x)\n",
        "b"
      ]
    },
    {
      "cell_type": "markdown",
      "metadata": {
        "id": "7ZykwqMOHdGF"
      },
      "source": [
        "#### 2.2. Reverse the order of a string:"
      ]
    },
    {
      "cell_type": "code",
      "execution_count": 4,
      "metadata": {
        "id": "fvkr00FcHdGG"
      },
      "outputs": [],
      "source": [
        "def inverse_string(a):\n",
        "    b = ''\n",
        "    letters = []\n",
        "\n",
        "    for x in a:\n",
        "        letters.append(x)\n",
        "\n",
        "    while letters:\n",
        "        c = letters.pop()\n",
        "        b += c\n",
        "\n",
        "    return b"
      ]
    },
    {
      "cell_type": "code",
      "execution_count": 5,
      "metadata": {
        "id": "8YZbYItEHdGG",
        "outputId": "a49fac92-c2e2-49b0-d41a-d0a2f1c850dd",
        "colab": {
          "base_uri": "https://localhost:8080/",
          "height": 35
        }
      },
      "outputs": [
        {
          "output_type": "execute_result",
          "data": {
            "text/plain": [
              "'racecar'"
            ],
            "application/vnd.google.colaboratory.intrinsic+json": {
              "type": "string"
            }
          },
          "metadata": {},
          "execution_count": 5
        }
      ],
      "source": [
        "# A palindromic word.\n",
        "inverse_string('racecar')"
      ]
    },
    {
      "cell_type": "code",
      "execution_count": 6,
      "metadata": {
        "id": "drQVD8zHHdGG",
        "outputId": "1688ea91-e9c1-41e4-a90c-33e1966d9e48",
        "colab": {
          "base_uri": "https://localhost:8080/",
          "height": 35
        }
      },
      "outputs": [
        {
          "output_type": "execute_result",
          "data": {
            "text/plain": [
              "'was i tac a ti saw'"
            ],
            "application/vnd.google.colaboratory.intrinsic+json": {
              "type": "string"
            }
          },
          "metadata": {},
          "execution_count": 6
        }
      ],
      "source": [
        "# A palindromic sentence.\n",
        "inverse_string('was it a cat i saw')"
      ]
    },
    {
      "cell_type": "markdown",
      "metadata": {
        "id": "UBqoUXUDHdGH"
      },
      "source": [
        "Ignore space and non-alphabetic characters."
      ]
    },
    {
      "cell_type": "code",
      "execution_count": 7,
      "metadata": {
        "id": "USQUT4gHHdGH"
      },
      "outputs": [],
      "source": [
        "def inverse_string2(a):\n",
        "    b = ''\n",
        "    letters = []\n",
        "\n",
        "    for x in a:\n",
        "        if x.isalpha():\n",
        "            letters.append(x)\n",
        "\n",
        "    while letters:\n",
        "        c = letters.pop()\n",
        "        b += c\n",
        "\n",
        "    return b"
      ]
    },
    {
      "cell_type": "code",
      "execution_count": 8,
      "metadata": {
        "id": "KwEInUHeHdGH",
        "outputId": "838ca7f9-1de5-446d-f4e2-aa1f113e7f9b",
        "colab": {
          "base_uri": "https://localhost:8080/",
          "height": 35
        }
      },
      "outputs": [
        {
          "output_type": "execute_result",
          "data": {
            "text/plain": [
              "'wasitacatisaw'"
            ],
            "application/vnd.google.colaboratory.intrinsic+json": {
              "type": "string"
            }
          },
          "metadata": {},
          "execution_count": 8
        }
      ],
      "source": [
        "# A palindromic sentence.\n",
        "inverse_string2('was it a cat i saw')"
      ]
    },
    {
      "cell_type": "code",
      "source": [],
      "metadata": {
        "id": "tN-8G8v0H-iz"
      },
      "execution_count": null,
      "outputs": []
    }
  ],
  "metadata": {
    "kernelspec": {
      "display_name": "Python 3",
      "language": "python",
      "name": "python3"
    },
    "language_info": {
      "codemirror_mode": {
        "name": "ipython",
        "version": 3
      },
      "file_extension": ".py",
      "mimetype": "text/x-python",
      "name": "python",
      "nbconvert_exporter": "python",
      "pygments_lexer": "ipython3",
      "version": "3.7.3"
    },
    "colab": {
      "provenance": [],
      "name": "stackAndQueue.ipynb",
      "include_colab_link": true
    }
  },
  "nbformat": 4,
  "nbformat_minor": 0
}